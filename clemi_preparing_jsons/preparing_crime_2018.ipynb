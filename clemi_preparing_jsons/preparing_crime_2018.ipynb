{
 "cells": [
  {
   "cell_type": "code",
   "execution_count": 1,
   "metadata": {},
   "outputs": [],
   "source": [
    "import pandas as pd\n",
    "import numpy as np"
   ]
  },
  {
   "cell_type": "code",
   "execution_count": 2,
   "metadata": {},
   "outputs": [],
   "source": [
    "crime=pd.read_csv('../crime_csvs/Crime_Incidents_in_2018.csv')  "
   ]
  },
  {
   "cell_type": "code",
   "execution_count": 3,
   "metadata": {},
   "outputs": [
    {
     "data": {
      "text/html": [
       "<div>\n",
       "<style scoped>\n",
       "    .dataframe tbody tr th:only-of-type {\n",
       "        vertical-align: middle;\n",
       "    }\n",
       "\n",
       "    .dataframe tbody tr th {\n",
       "        vertical-align: top;\n",
       "    }\n",
       "\n",
       "    .dataframe thead th {\n",
       "        text-align: right;\n",
       "    }\n",
       "</style>\n",
       "<table border=\"1\" class=\"dataframe\">\n",
       "  <thead>\n",
       "    <tr style=\"text-align: right;\">\n",
       "      <th></th>\n",
       "      <th>X</th>\n",
       "      <th>Y</th>\n",
       "      <th>CCN</th>\n",
       "      <th>REPORT_DAT</th>\n",
       "      <th>SHIFT</th>\n",
       "      <th>METHOD</th>\n",
       "      <th>OFFENSE</th>\n",
       "      <th>BLOCK</th>\n",
       "      <th>XBLOCK</th>\n",
       "      <th>YBLOCK</th>\n",
       "      <th>...</th>\n",
       "      <th>BLOCK_GROUP</th>\n",
       "      <th>CENSUS_TRACT</th>\n",
       "      <th>VOTING_PRECINCT</th>\n",
       "      <th>LATITUDE</th>\n",
       "      <th>LONGITUDE</th>\n",
       "      <th>BID</th>\n",
       "      <th>START_DATE</th>\n",
       "      <th>END_DATE</th>\n",
       "      <th>OBJECTID</th>\n",
       "      <th>OCTO_RECORD_ID</th>\n",
       "    </tr>\n",
       "  </thead>\n",
       "  <tbody>\n",
       "    <tr>\n",
       "      <th>0</th>\n",
       "      <td>-76.972215</td>\n",
       "      <td>38.852618</td>\n",
       "      <td>7006630</td>\n",
       "      <td>2018/07/26 00:00:00+00</td>\n",
       "      <td>MIDNIGHT</td>\n",
       "      <td>GUN</td>\n",
       "      <td>HOMICIDE</td>\n",
       "      <td>3100 - 3198 BLOCK OF 24TH STREET SE</td>\n",
       "      <td>402412.0</td>\n",
       "      <td>131645.0</td>\n",
       "      <td>...</td>\n",
       "      <td>007408 1</td>\n",
       "      <td>7408.0</td>\n",
       "      <td>Precinct 115</td>\n",
       "      <td>38.852610</td>\n",
       "      <td>-76.972212</td>\n",
       "      <td>NaN</td>\n",
       "      <td>2007/01/14 23:30:00+00</td>\n",
       "      <td>2007/01/14 00:00:00+00</td>\n",
       "      <td>495086086</td>\n",
       "      <td>07006630-01</td>\n",
       "    </tr>\n",
       "    <tr>\n",
       "      <th>1</th>\n",
       "      <td>-77.074960</td>\n",
       "      <td>38.912611</td>\n",
       "      <td>10954295</td>\n",
       "      <td>2018/04/05 21:17:59+00</td>\n",
       "      <td>EVENING</td>\n",
       "      <td>OTHERS</td>\n",
       "      <td>SEX ABUSE</td>\n",
       "      <td>3810 - 3899 BLOCK OF RESERVOIR ROAD NW</td>\n",
       "      <td>393499.0</td>\n",
       "      <td>138307.0</td>\n",
       "      <td>...</td>\n",
       "      <td>000201 1</td>\n",
       "      <td>201.0</td>\n",
       "      <td>Precinct 6</td>\n",
       "      <td>38.912603</td>\n",
       "      <td>-77.074958</td>\n",
       "      <td>NaN</td>\n",
       "      <td>2018/04/01 00:01:17+00</td>\n",
       "      <td>2018/04/05 21:18:34+00</td>\n",
       "      <td>495181085</td>\n",
       "      <td>10954295-01</td>\n",
       "    </tr>\n",
       "    <tr>\n",
       "      <th>2</th>\n",
       "      <td>-76.978422</td>\n",
       "      <td>38.899255</td>\n",
       "      <td>12146972</td>\n",
       "      <td>2018/07/31 00:00:00+00</td>\n",
       "      <td>MIDNIGHT</td>\n",
       "      <td>OTHERS</td>\n",
       "      <td>HOMICIDE</td>\n",
       "      <td>1700 - 1799 BLOCK OF BENNING ROAD NE</td>\n",
       "      <td>401872.0</td>\n",
       "      <td>136822.0</td>\n",
       "      <td>...</td>\n",
       "      <td>007901 1</td>\n",
       "      <td>7901.0</td>\n",
       "      <td>Precinct 81</td>\n",
       "      <td>38.899248</td>\n",
       "      <td>-76.978419</td>\n",
       "      <td>NaN</td>\n",
       "      <td>2012/10/18 00:10:00+00</td>\n",
       "      <td>2012/10/18 00:12:00+00</td>\n",
       "      <td>495241403</td>\n",
       "      <td>12146972-01</td>\n",
       "    </tr>\n",
       "  </tbody>\n",
       "</table>\n",
       "<p>3 rows × 25 columns</p>\n",
       "</div>"
      ],
      "text/plain": [
       "           X          Y       CCN              REPORT_DAT     SHIFT  METHOD  \\\n",
       "0 -76.972215  38.852618   7006630  2018/07/26 00:00:00+00  MIDNIGHT     GUN   \n",
       "1 -77.074960  38.912611  10954295  2018/04/05 21:17:59+00   EVENING  OTHERS   \n",
       "2 -76.978422  38.899255  12146972  2018/07/31 00:00:00+00  MIDNIGHT  OTHERS   \n",
       "\n",
       "     OFFENSE                                   BLOCK    XBLOCK    YBLOCK  ...  \\\n",
       "0   HOMICIDE     3100 - 3198 BLOCK OF 24TH STREET SE  402412.0  131645.0  ...   \n",
       "1  SEX ABUSE  3810 - 3899 BLOCK OF RESERVOIR ROAD NW  393499.0  138307.0  ...   \n",
       "2   HOMICIDE    1700 - 1799 BLOCK OF BENNING ROAD NE  401872.0  136822.0  ...   \n",
       "\n",
       "   BLOCK_GROUP CENSUS_TRACT  VOTING_PRECINCT   LATITUDE  LONGITUDE  BID  \\\n",
       "0     007408 1       7408.0     Precinct 115  38.852610 -76.972212  NaN   \n",
       "1     000201 1        201.0       Precinct 6  38.912603 -77.074958  NaN   \n",
       "2     007901 1       7901.0      Precinct 81  38.899248 -76.978419  NaN   \n",
       "\n",
       "               START_DATE                END_DATE   OBJECTID  OCTO_RECORD_ID  \n",
       "0  2007/01/14 23:30:00+00  2007/01/14 00:00:00+00  495086086     07006630-01  \n",
       "1  2018/04/01 00:01:17+00  2018/04/05 21:18:34+00  495181085     10954295-01  \n",
       "2  2012/10/18 00:10:00+00  2012/10/18 00:12:00+00  495241403     12146972-01  \n",
       "\n",
       "[3 rows x 25 columns]"
      ]
     },
     "execution_count": 3,
     "metadata": {},
     "output_type": "execute_result"
    }
   ],
   "source": [
    "crime.head(3)"
   ]
  },
  {
   "cell_type": "code",
   "execution_count": 4,
   "metadata": {},
   "outputs": [
    {
     "data": {
      "text/html": [
       "<div>\n",
       "<style scoped>\n",
       "    .dataframe tbody tr th:only-of-type {\n",
       "        vertical-align: middle;\n",
       "    }\n",
       "\n",
       "    .dataframe tbody tr th {\n",
       "        vertical-align: top;\n",
       "    }\n",
       "\n",
       "    .dataframe thead th {\n",
       "        text-align: right;\n",
       "    }\n",
       "</style>\n",
       "<table border=\"1\" class=\"dataframe\">\n",
       "  <thead>\n",
       "    <tr style=\"text-align: right;\">\n",
       "      <th></th>\n",
       "      <th>REPORT_DAT</th>\n",
       "      <th>OFFENSE</th>\n",
       "    </tr>\n",
       "  </thead>\n",
       "  <tbody>\n",
       "    <tr>\n",
       "      <th>0</th>\n",
       "      <td>2018/07/26 00:00:00+00</td>\n",
       "      <td>HOMICIDE</td>\n",
       "    </tr>\n",
       "    <tr>\n",
       "      <th>1</th>\n",
       "      <td>2018/04/05 21:17:59+00</td>\n",
       "      <td>SEX ABUSE</td>\n",
       "    </tr>\n",
       "    <tr>\n",
       "      <th>2</th>\n",
       "      <td>2018/07/31 00:00:00+00</td>\n",
       "      <td>HOMICIDE</td>\n",
       "    </tr>\n",
       "  </tbody>\n",
       "</table>\n",
       "</div>"
      ],
      "text/plain": [
       "               REPORT_DAT    OFFENSE\n",
       "0  2018/07/26 00:00:00+00   HOMICIDE\n",
       "1  2018/04/05 21:17:59+00  SEX ABUSE\n",
       "2  2018/07/31 00:00:00+00   HOMICIDE"
      ]
     },
     "execution_count": 4,
     "metadata": {},
     "output_type": "execute_result"
    }
   ],
   "source": [
    "c_df=crime[['REPORT_DAT','OFFENSE']]\n",
    "c_df.head(3)"
   ]
  },
  {
   "cell_type": "code",
   "execution_count": 5,
   "metadata": {},
   "outputs": [],
   "source": [
    "s = pd.Series(c_df['REPORT_DAT'])"
   ]
  },
  {
   "cell_type": "code",
   "execution_count": 6,
   "metadata": {},
   "outputs": [
    {
     "name": "stderr",
     "output_type": "stream",
     "text": [
      "<ipython-input-6-505e8d79a12a>:1: SettingWithCopyWarning: \n",
      "A value is trying to be set on a copy of a slice from a DataFrame.\n",
      "Try using .loc[row_indexer,col_indexer] = value instead\n",
      "\n",
      "See the caveats in the documentation: https://pandas.pydata.org/pandas-docs/stable/user_guide/indexing.html#returning-a-view-versus-a-copy\n",
      "  c_df['hour']=s.str[11:13]\n"
     ]
    }
   ],
   "source": [
    "c_df['hour']=s.str[11:13]"
   ]
  },
  {
   "cell_type": "code",
   "execution_count": 7,
   "metadata": {},
   "outputs": [
    {
     "name": "stderr",
     "output_type": "stream",
     "text": [
      "<ipython-input-7-08c14da421d9>:1: SettingWithCopyWarning: \n",
      "A value is trying to be set on a copy of a slice from a DataFrame.\n",
      "Try using .loc[row_indexer,col_indexer] = value instead\n",
      "\n",
      "See the caveats in the documentation: https://pandas.pydata.org/pandas-docs/stable/user_guide/indexing.html#returning-a-view-versus-a-copy\n",
      "  c_df['count']=1\n"
     ]
    }
   ],
   "source": [
    "c_df['count']=1\n",
    "c_df1=c_df[['OFFENSE','hour','count']]"
   ]
  },
  {
   "cell_type": "code",
   "execution_count": 8,
   "metadata": {},
   "outputs": [
    {
     "data": {
      "text/html": [
       "<div>\n",
       "<style scoped>\n",
       "    .dataframe tbody tr th:only-of-type {\n",
       "        vertical-align: middle;\n",
       "    }\n",
       "\n",
       "    .dataframe tbody tr th {\n",
       "        vertical-align: top;\n",
       "    }\n",
       "\n",
       "    .dataframe thead th {\n",
       "        text-align: right;\n",
       "    }\n",
       "</style>\n",
       "<table border=\"1\" class=\"dataframe\">\n",
       "  <thead>\n",
       "    <tr style=\"text-align: right;\">\n",
       "      <th></th>\n",
       "      <th></th>\n",
       "      <th>count</th>\n",
       "    </tr>\n",
       "    <tr>\n",
       "      <th>OFFENSE</th>\n",
       "      <th>hour</th>\n",
       "      <th></th>\n",
       "    </tr>\n",
       "  </thead>\n",
       "  <tbody>\n",
       "    <tr>\n",
       "      <th rowspan=\"5\" valign=\"top\">ARSON</th>\n",
       "      <th>01</th>\n",
       "      <td>1</td>\n",
       "    </tr>\n",
       "    <tr>\n",
       "      <th>03</th>\n",
       "      <td>1</td>\n",
       "    </tr>\n",
       "    <tr>\n",
       "      <th>07</th>\n",
       "      <td>1</td>\n",
       "    </tr>\n",
       "    <tr>\n",
       "      <th>20</th>\n",
       "      <td>1</td>\n",
       "    </tr>\n",
       "    <tr>\n",
       "      <th>22</th>\n",
       "      <td>1</td>\n",
       "    </tr>\n",
       "    <tr>\n",
       "      <th>...</th>\n",
       "      <th>...</th>\n",
       "      <td>...</td>\n",
       "    </tr>\n",
       "    <tr>\n",
       "      <th rowspan=\"5\" valign=\"top\">THEFT/OTHER</th>\n",
       "      <th>19</th>\n",
       "      <td>954</td>\n",
       "    </tr>\n",
       "    <tr>\n",
       "      <th>20</th>\n",
       "      <td>934</td>\n",
       "    </tr>\n",
       "    <tr>\n",
       "      <th>21</th>\n",
       "      <td>982</td>\n",
       "    </tr>\n",
       "    <tr>\n",
       "      <th>22</th>\n",
       "      <td>850</td>\n",
       "    </tr>\n",
       "    <tr>\n",
       "      <th>23</th>\n",
       "      <td>576</td>\n",
       "    </tr>\n",
       "  </tbody>\n",
       "</table>\n",
       "<p>174 rows × 1 columns</p>\n",
       "</div>"
      ],
      "text/plain": [
       "                  count\n",
       "OFFENSE     hour       \n",
       "ARSON       01        1\n",
       "            03        1\n",
       "            07        1\n",
       "            20        1\n",
       "            22        1\n",
       "...                 ...\n",
       "THEFT/OTHER 19      954\n",
       "            20      934\n",
       "            21      982\n",
       "            22      850\n",
       "            23      576\n",
       "\n",
       "[174 rows x 1 columns]"
      ]
     },
     "execution_count": 8,
     "metadata": {},
     "output_type": "execute_result"
    }
   ],
   "source": [
    "grouped_c=c_df1.groupby(['OFFENSE','hour']).count()\n",
    "grouped_c"
   ]
  },
  {
   "cell_type": "code",
   "execution_count": 9,
   "metadata": {},
   "outputs": [],
   "source": [
    "grouped_offenses=grouped_c.reset_index()"
   ]
  },
  {
   "cell_type": "markdown",
   "metadata": {},
   "source": [
    "# Filter out crimes"
   ]
  },
  {
   "cell_type": "markdown",
   "metadata": {},
   "source": [
    "### ARSON"
   ]
  },
  {
   "cell_type": "code",
   "execution_count": 10,
   "metadata": {},
   "outputs": [],
   "source": [
    "arson=grouped_offenses.loc[grouped_offenses[\"OFFENSE\"]==\"ARSON\",:]"
   ]
  },
  {
   "cell_type": "code",
   "execution_count": 11,
   "metadata": {},
   "outputs": [
    {
     "data": {
      "text/html": [
       "<div>\n",
       "<style scoped>\n",
       "    .dataframe tbody tr th:only-of-type {\n",
       "        vertical-align: middle;\n",
       "    }\n",
       "\n",
       "    .dataframe tbody tr th {\n",
       "        vertical-align: top;\n",
       "    }\n",
       "\n",
       "    .dataframe thead th {\n",
       "        text-align: right;\n",
       "    }\n",
       "</style>\n",
       "<table border=\"1\" class=\"dataframe\">\n",
       "  <thead>\n",
       "    <tr style=\"text-align: right;\">\n",
       "      <th></th>\n",
       "      <th>OFFENSE</th>\n",
       "      <th>hour</th>\n",
       "      <th>count</th>\n",
       "    </tr>\n",
       "  </thead>\n",
       "  <tbody>\n",
       "    <tr>\n",
       "      <th>0</th>\n",
       "      <td>ARSON</td>\n",
       "      <td>01</td>\n",
       "      <td>1</td>\n",
       "    </tr>\n",
       "    <tr>\n",
       "      <th>1</th>\n",
       "      <td>ARSON</td>\n",
       "      <td>03</td>\n",
       "      <td>1</td>\n",
       "    </tr>\n",
       "    <tr>\n",
       "      <th>2</th>\n",
       "      <td>ARSON</td>\n",
       "      <td>07</td>\n",
       "      <td>1</td>\n",
       "    </tr>\n",
       "    <tr>\n",
       "      <th>3</th>\n",
       "      <td>ARSON</td>\n",
       "      <td>20</td>\n",
       "      <td>1</td>\n",
       "    </tr>\n",
       "    <tr>\n",
       "      <th>4</th>\n",
       "      <td>ARSON</td>\n",
       "      <td>22</td>\n",
       "      <td>1</td>\n",
       "    </tr>\n",
       "  </tbody>\n",
       "</table>\n",
       "</div>"
      ],
      "text/plain": [
       "  OFFENSE hour  count\n",
       "0   ARSON   01      1\n",
       "1   ARSON   03      1\n",
       "2   ARSON   07      1\n",
       "3   ARSON   20      1\n",
       "4   ARSON   22      1"
      ]
     },
     "execution_count": 11,
     "metadata": {},
     "output_type": "execute_result"
    }
   ],
   "source": [
    "arson.sort_values(\"hour\")"
   ]
  },
  {
   "cell_type": "code",
   "execution_count": 12,
   "metadata": {},
   "outputs": [],
   "source": [
    "arson2 = pd.DataFrame([['ARSON','00', 0],['ARSON','02', 0],['ARSON','04', 0],['ARSON','05', 0],['ARSON','06', 0],\n",
    "                       ['ARSON','08', 0],['ARSON','09', 0],['ARSON','10', 0],['ARSON','11', 0],['ARSON','12', 0],\n",
    "                        ['ARSON','13', 0],['ARSON','14', 0],['ARSON','15', 0],['ARSON','16', 0],['ARSON','17', 0],\n",
    "                        ['ARSON','18', 0], ['ARSON','19', 0], ['ARSON','21', 0],['ARSON','23', 0]],\n",
    "                   columns=list('ABC'))"
   ]
  },
  {
   "cell_type": "code",
   "execution_count": 13,
   "metadata": {},
   "outputs": [],
   "source": [
    "arson2_renamed=arson2.rename(columns={\"A\":\"OFFENSE\",\"B\":\"hour\",\"C\":\"count\"})"
   ]
  },
  {
   "cell_type": "code",
   "execution_count": 14,
   "metadata": {},
   "outputs": [],
   "source": [
    "arson_data=arson.append(arson2_renamed)\n",
    "#arson_data.sort_values(\"hour\")"
   ]
  },
  {
   "cell_type": "code",
   "execution_count": 15,
   "metadata": {},
   "outputs": [],
   "source": [
    "old=[\n",
    "    (arson_data['hour']=='00'),(arson_data['hour']=='01'),(arson_data['hour']=='02'),(arson_data['hour']=='03'),\n",
    "    (arson_data['hour']=='04'),(arson_data['hour']=='05'),(arson_data['hour']=='06'),(arson_data['hour']=='07'),\n",
    "    (arson_data['hour']=='08'),(arson_data['hour']=='09'),(arson_data['hour']=='10'),(arson_data['hour']=='11'),\n",
    "    (arson_data['hour']=='12'),(arson_data['hour']=='13'),(arson_data['hour']=='14'),(arson_data['hour']=='15'),\n",
    "    (arson_data['hour']=='16'),(arson_data['hour']=='17'),(arson_data['hour']=='18'),(arson_data['hour']=='19'),\n",
    "    (arson_data['hour']=='20'),(arson_data['hour']=='21'),(arson_data['hour']=='22'),(arson_data['hour']=='23')\n",
    "]\n",
    "\n",
    "new=['12AM','1AM','2AM','3AM','4AM','5AM','6AM','7AM','8AM','9AM','10AM','11AM','12PM',\n",
    "         '1PM','2PM','3PM','4PM','5PM','6PM','7PM','8PM','9PM','10PM','11PM'\n",
    "]\n",
    "\n",
    "arson_data['TIME']=np.select(old,new,default='null')"
   ]
  },
  {
   "cell_type": "code",
   "execution_count": 16,
   "metadata": {},
   "outputs": [],
   "source": [
    "#arson_data.sort_values(\"hour\")"
   ]
  },
  {
   "cell_type": "markdown",
   "metadata": {},
   "source": [
    "### ASSAULT W/DANGEROUS WEAPON"
   ]
  },
  {
   "cell_type": "code",
   "execution_count": 17,
   "metadata": {},
   "outputs": [],
   "source": [
    "assault_weapon_data=grouped_offenses.loc[grouped_offenses[\"OFFENSE\"]==\"ASSAULT W/DANGEROUS WEAPON\",:]"
   ]
  },
  {
   "cell_type": "code",
   "execution_count": 18,
   "metadata": {},
   "outputs": [],
   "source": [
    "#assault_weapon_data.sort_values(\"hour\")"
   ]
  },
  {
   "cell_type": "code",
   "execution_count": 19,
   "metadata": {},
   "outputs": [
    {
     "name": "stderr",
     "output_type": "stream",
     "text": [
      "<ipython-input-19-37b0d101ff52>:16: SettingWithCopyWarning: \n",
      "A value is trying to be set on a copy of a slice from a DataFrame.\n",
      "Try using .loc[row_indexer,col_indexer] = value instead\n",
      "\n",
      "See the caveats in the documentation: https://pandas.pydata.org/pandas-docs/stable/user_guide/indexing.html#returning-a-view-versus-a-copy\n",
      "  assault_weapon_data['TIME']=np.select(old2,new2,default='null')\n"
     ]
    }
   ],
   "source": [
    "old2=[\n",
    "    (assault_weapon_data['hour']=='00'),(assault_weapon_data['hour']=='01'),(assault_weapon_data['hour']=='02'),\n",
    "    (assault_weapon_data['hour']=='03'),(assault_weapon_data['hour']=='04'),(assault_weapon_data['hour']=='05'),\n",
    "    (assault_weapon_data['hour']=='06'),(assault_weapon_data['hour']=='07'),(assault_weapon_data['hour']=='08'),\n",
    "    (assault_weapon_data['hour']=='09'),(assault_weapon_data['hour']=='10'),(assault_weapon_data['hour']=='11'),\n",
    "    (assault_weapon_data['hour']=='12'),(assault_weapon_data['hour']=='13'),(assault_weapon_data['hour']=='14'),\n",
    "    (assault_weapon_data['hour']=='15'),(assault_weapon_data['hour']=='16'),(assault_weapon_data['hour']=='17'),\n",
    "    (assault_weapon_data['hour']=='18'),(assault_weapon_data['hour']=='19'),(assault_weapon_data['hour']=='20'),\n",
    "    (assault_weapon_data['hour']=='21'),(assault_weapon_data['hour']=='22'),(assault_weapon_data['hour']=='23')\n",
    "]\n",
    "\n",
    "new2=['12AM','1AM','2AM','3AM','4AM','5AM','6AM','7AM','8AM','9AM','10AM','11AM','12PM',\n",
    "         '1PM','2PM','3PM','4PM','5PM','6PM','7PM','8PM','9PM','10PM','11PM'\n",
    "]\n",
    "\n",
    "assault_weapon_data['TIME']=np.select(old2,new2,default='null')"
   ]
  },
  {
   "cell_type": "code",
   "execution_count": 20,
   "metadata": {},
   "outputs": [],
   "source": [
    "#assault_weapon_data.sort_values(\"hour\")"
   ]
  },
  {
   "cell_type": "markdown",
   "metadata": {},
   "source": [
    "### Burglary"
   ]
  },
  {
   "cell_type": "code",
   "execution_count": 21,
   "metadata": {},
   "outputs": [],
   "source": [
    "burglary_data=grouped_offenses.loc[grouped_offenses[\"OFFENSE\"]==\"BURGLARY\",:]"
   ]
  },
  {
   "cell_type": "code",
   "execution_count": 22,
   "metadata": {},
   "outputs": [],
   "source": [
    "#burglary_data.sort_values(\"hour\")"
   ]
  },
  {
   "cell_type": "code",
   "execution_count": 23,
   "metadata": {},
   "outputs": [
    {
     "name": "stderr",
     "output_type": "stream",
     "text": [
      "<ipython-input-23-12c87534d28b>:16: SettingWithCopyWarning: \n",
      "A value is trying to be set on a copy of a slice from a DataFrame.\n",
      "Try using .loc[row_indexer,col_indexer] = value instead\n",
      "\n",
      "See the caveats in the documentation: https://pandas.pydata.org/pandas-docs/stable/user_guide/indexing.html#returning-a-view-versus-a-copy\n",
      "  burglary_data['TIME']=np.select(old3,new3,default='null')\n"
     ]
    }
   ],
   "source": [
    "old3=[\n",
    "    (burglary_data['hour']=='00'),(burglary_data['hour']=='01'),(burglary_data['hour']=='02'),\n",
    "    (burglary_data['hour']=='03'),(burglary_data['hour']=='04'),(burglary_data['hour']=='05'),\n",
    "    (burglary_data['hour']=='06'),(burglary_data['hour']=='07'),(burglary_data['hour']=='08'),\n",
    "    (burglary_data['hour']=='09'),(burglary_data['hour']=='10'),(burglary_data['hour']=='11'),\n",
    "    (burglary_data['hour']=='12'),(burglary_data['hour']=='13'),(burglary_data['hour']=='14'),\n",
    "    (burglary_data['hour']=='15'),(burglary_data['hour']=='16'),(burglary_data['hour']=='17'),\n",
    "    (burglary_data['hour']=='18'),(burglary_data['hour']=='19'),(burglary_data['hour']=='20'),\n",
    "    (burglary_data['hour']=='21'),(burglary_data['hour']=='22'),(burglary_data['hour']=='23')\n",
    "]\n",
    "\n",
    "new3=['12AM','1AM','2AM','3AM','4AM','5AM','6AM','7AM','8AM','9AM','10AM','11AM','12PM',\n",
    "         '1PM','2PM','3PM','4PM','5PM','6PM','7PM','8PM','9PM','10PM','11PM'\n",
    "]\n",
    "\n",
    "burglary_data['TIME']=np.select(old3,new3,default='null')"
   ]
  },
  {
   "cell_type": "code",
   "execution_count": 24,
   "metadata": {},
   "outputs": [],
   "source": [
    "#burglary_data.sort_values(\"hour\")"
   ]
  },
  {
   "cell_type": "markdown",
   "metadata": {},
   "source": [
    "### HOMICIDE"
   ]
  },
  {
   "cell_type": "code",
   "execution_count": 25,
   "metadata": {},
   "outputs": [],
   "source": [
    "homicide=grouped_offenses.loc[grouped_offenses[\"OFFENSE\"]==\"HOMICIDE\",:]"
   ]
  },
  {
   "cell_type": "code",
   "execution_count": 26,
   "metadata": {},
   "outputs": [
    {
     "data": {
      "text/html": [
       "<div>\n",
       "<style scoped>\n",
       "    .dataframe tbody tr th:only-of-type {\n",
       "        vertical-align: middle;\n",
       "    }\n",
       "\n",
       "    .dataframe tbody tr th {\n",
       "        vertical-align: top;\n",
       "    }\n",
       "\n",
       "    .dataframe thead th {\n",
       "        text-align: right;\n",
       "    }\n",
       "</style>\n",
       "<table border=\"1\" class=\"dataframe\">\n",
       "  <thead>\n",
       "    <tr style=\"text-align: right;\">\n",
       "      <th></th>\n",
       "      <th>OFFENSE</th>\n",
       "      <th>hour</th>\n",
       "      <th>count</th>\n",
       "    </tr>\n",
       "  </thead>\n",
       "  <tbody>\n",
       "    <tr>\n",
       "      <th>53</th>\n",
       "      <td>HOMICIDE</td>\n",
       "      <td>00</td>\n",
       "      <td>160</td>\n",
       "    </tr>\n",
       "  </tbody>\n",
       "</table>\n",
       "</div>"
      ],
      "text/plain": [
       "     OFFENSE hour  count\n",
       "53  HOMICIDE   00    160"
      ]
     },
     "execution_count": 26,
     "metadata": {},
     "output_type": "execute_result"
    }
   ],
   "source": [
    "homicide.sort_values(\"hour\")"
   ]
  },
  {
   "cell_type": "code",
   "execution_count": 27,
   "metadata": {},
   "outputs": [],
   "source": [
    "homicide2 = pd.DataFrame([['HOMICIDE','01', 0],['HOMICIDE','02', 0],['HOMICIDE','03', 0],['HOMICIDE','04', 0],\n",
    "                          ['HOMICIDE','05', 0],['HOMICIDE','06', 0],['HOMICIDE','07', 0],['HOMICIDE','08', 0],\n",
    "                          ['HOMICIDE','09', 0],['HOMICIDE','10', 0],['HOMICIDE','11', 0],['HOMICIDE','12', 0],\n",
    "                          ['HOMICIDE','13', 0],['HOMICIDE','14', 0],['HOMICIDE','15', 0],['HOMICIDE','16', 0],\n",
    "                          ['HOMICIDE','17', 0],['HOMICIDE','18', 0],['HOMICIDE','19', 0],['HOMICIDE','20', 0],\n",
    "                          ['HOMICIDE','21', 0],['HOMICIDE','22', 0],['HOMICIDE','23', 0]       \n",
    "                   ],\n",
    "                   columns=list('ABC'))"
   ]
  },
  {
   "cell_type": "code",
   "execution_count": 28,
   "metadata": {},
   "outputs": [],
   "source": [
    "homicide2_renamed=homicide2.rename(columns={\"A\":\"OFFENSE\",\"B\":\"hour\",\"C\":\"count\"})"
   ]
  },
  {
   "cell_type": "code",
   "execution_count": 29,
   "metadata": {},
   "outputs": [],
   "source": [
    "homicide_data=homicide.append(homicide2_renamed)\n",
    "#homicide_data.sort_values(\"hour\")"
   ]
  },
  {
   "cell_type": "code",
   "execution_count": 30,
   "metadata": {},
   "outputs": [],
   "source": [
    "old4=[\n",
    "    (homicide_data['hour']=='00'),(homicide_data['hour']=='01'),(homicide_data['hour']=='02'),\n",
    "    (homicide_data['hour']=='03'),(homicide_data['hour']=='04'),(homicide_data['hour']=='05'),\n",
    "    (homicide_data['hour']=='06'),(homicide_data['hour']=='07'),(homicide_data['hour']=='08'),\n",
    "    (homicide_data['hour']=='09'),(homicide_data['hour']=='10'),(homicide_data['hour']=='11'),\n",
    "    (homicide_data['hour']=='12'),(homicide_data['hour']=='13'),(homicide_data['hour']=='14'),\n",
    "    (homicide_data['hour']=='15'),(homicide_data['hour']=='16'),(homicide_data['hour']=='17'),\n",
    "    (homicide_data['hour']=='18'),(homicide_data['hour']=='19'),(homicide_data['hour']=='20'),\n",
    "    (homicide_data['hour']=='21'),(homicide_data['hour']=='22'),(homicide_data['hour']=='23')\n",
    "]\n",
    "\n",
    "new4=['12AM','1AM','2AM','3AM','4AM','5AM','6AM','7AM','8AM','9AM','10AM','11AM','12PM',\n",
    "         '1PM','2PM','3PM','4PM','5PM','6PM','7PM','8PM','9PM','10PM','11PM'\n",
    "]\n",
    "\n",
    "homicide_data['TIME']=np.select(old4,new4,default='null')"
   ]
  },
  {
   "cell_type": "code",
   "execution_count": 31,
   "metadata": {},
   "outputs": [],
   "source": [
    "#homicide_data.sort_values(\"hour\")"
   ]
  },
  {
   "cell_type": "markdown",
   "metadata": {},
   "source": [
    "### Motor vehicle theft"
   ]
  },
  {
   "cell_type": "code",
   "execution_count": 32,
   "metadata": {},
   "outputs": [],
   "source": [
    "mv_theft_data=grouped_offenses.loc[grouped_offenses[\"OFFENSE\"]==\"MOTOR VEHICLE THEFT\",:]"
   ]
  },
  {
   "cell_type": "code",
   "execution_count": 33,
   "metadata": {},
   "outputs": [],
   "source": [
    "#mv_theft_data.sort_values(\"hour\")"
   ]
  },
  {
   "cell_type": "code",
   "execution_count": 34,
   "metadata": {},
   "outputs": [
    {
     "name": "stderr",
     "output_type": "stream",
     "text": [
      "<ipython-input-34-785de4118364>:16: SettingWithCopyWarning: \n",
      "A value is trying to be set on a copy of a slice from a DataFrame.\n",
      "Try using .loc[row_indexer,col_indexer] = value instead\n",
      "\n",
      "See the caveats in the documentation: https://pandas.pydata.org/pandas-docs/stable/user_guide/indexing.html#returning-a-view-versus-a-copy\n",
      "  mv_theft_data['TIME']=np.select(old5,new5,default='null')\n"
     ]
    }
   ],
   "source": [
    "old5=[\n",
    "    (mv_theft_data['hour']=='00'),(mv_theft_data['hour']=='01'),(mv_theft_data['hour']=='02'),\n",
    "    (mv_theft_data['hour']=='03'),(mv_theft_data['hour']=='04'),(mv_theft_data['hour']=='05'),\n",
    "    (mv_theft_data['hour']=='06'),(mv_theft_data['hour']=='07'),(mv_theft_data['hour']=='08'),\n",
    "    (mv_theft_data['hour']=='09'),(mv_theft_data['hour']=='10'),(mv_theft_data['hour']=='11'),\n",
    "    (mv_theft_data['hour']=='12'),(mv_theft_data['hour']=='13'),(mv_theft_data['hour']=='14'),\n",
    "    (mv_theft_data['hour']=='15'),(mv_theft_data['hour']=='16'),(mv_theft_data['hour']=='17'),\n",
    "    (mv_theft_data['hour']=='18'),(mv_theft_data['hour']=='19'),(mv_theft_data['hour']=='20'),\n",
    "    (mv_theft_data['hour']=='21'),(mv_theft_data['hour']=='22'),(mv_theft_data['hour']=='23')\n",
    "]\n",
    "\n",
    "new5=['12AM','1AM','2AM','3AM','4AM','5AM','6AM','7AM','8AM','9AM','10AM','11AM','12PM',\n",
    "         '1PM','2PM','3PM','4PM','5PM','6PM','7PM','8PM','9PM','10PM','11PM'\n",
    "]\n",
    "\n",
    "mv_theft_data['TIME']=np.select(old5,new5,default='null')"
   ]
  },
  {
   "cell_type": "code",
   "execution_count": 35,
   "metadata": {},
   "outputs": [],
   "source": [
    "#mv_theft_data.sort_values(\"hour\")"
   ]
  },
  {
   "cell_type": "markdown",
   "metadata": {},
   "source": [
    "### Robbery"
   ]
  },
  {
   "cell_type": "code",
   "execution_count": 36,
   "metadata": {},
   "outputs": [],
   "source": [
    "robbery_data=grouped_offenses.loc[grouped_offenses[\"OFFENSE\"]==\"ROBBERY\",:]"
   ]
  },
  {
   "cell_type": "code",
   "execution_count": 37,
   "metadata": {},
   "outputs": [],
   "source": [
    "#robbery_data.sort_values(\"hour\")"
   ]
  },
  {
   "cell_type": "code",
   "execution_count": 38,
   "metadata": {},
   "outputs": [
    {
     "name": "stderr",
     "output_type": "stream",
     "text": [
      "<ipython-input-38-3f71fd4ed2c5>:16: SettingWithCopyWarning: \n",
      "A value is trying to be set on a copy of a slice from a DataFrame.\n",
      "Try using .loc[row_indexer,col_indexer] = value instead\n",
      "\n",
      "See the caveats in the documentation: https://pandas.pydata.org/pandas-docs/stable/user_guide/indexing.html#returning-a-view-versus-a-copy\n",
      "  robbery_data['TIME']=np.select(old6,new6,default='null')\n"
     ]
    }
   ],
   "source": [
    "old6=[\n",
    "    (robbery_data['hour']=='00'),(robbery_data['hour']=='01'),(robbery_data['hour']=='02'),\n",
    "    (robbery_data['hour']=='03'),(robbery_data['hour']=='04'),(robbery_data['hour']=='05'),\n",
    "    (robbery_data['hour']=='06'),(robbery_data['hour']=='07'),(robbery_data['hour']=='08'),\n",
    "    (robbery_data['hour']=='09'),(robbery_data['hour']=='10'),(robbery_data['hour']=='11'),\n",
    "    (robbery_data['hour']=='12'),(robbery_data['hour']=='13'),(robbery_data['hour']=='14'),\n",
    "    (robbery_data['hour']=='15'),(robbery_data['hour']=='16'),(robbery_data['hour']=='17'),\n",
    "    (robbery_data['hour']=='18'),(robbery_data['hour']=='19'),(robbery_data['hour']=='20'),\n",
    "    (robbery_data['hour']=='21'),(robbery_data['hour']=='22'),(robbery_data['hour']=='23')\n",
    "]\n",
    "\n",
    "new6=['12AM','1AM','2AM','3AM','4AM','5AM','6AM','7AM','8AM','9AM','10AM','11AM','12PM',\n",
    "         '1PM','2PM','3PM','4PM','5PM','6PM','7PM','8PM','9PM','10PM','11PM'\n",
    "]\n",
    "\n",
    "robbery_data['TIME']=np.select(old6,new6,default='null')"
   ]
  },
  {
   "cell_type": "code",
   "execution_count": 39,
   "metadata": {},
   "outputs": [],
   "source": [
    "#robbery_data.sort_values(\"hour\")"
   ]
  },
  {
   "cell_type": "markdown",
   "metadata": {},
   "source": [
    "### SEX ABUSE "
   ]
  },
  {
   "cell_type": "code",
   "execution_count": 40,
   "metadata": {},
   "outputs": [],
   "source": [
    "sex_abuse_data=grouped_offenses.loc[grouped_offenses[\"OFFENSE\"]==\"SEX ABUSE\",:]"
   ]
  },
  {
   "cell_type": "code",
   "execution_count": 41,
   "metadata": {},
   "outputs": [],
   "source": [
    "#sex_abuse_data.sort_values(\"hour\")"
   ]
  },
  {
   "cell_type": "code",
   "execution_count": 42,
   "metadata": {},
   "outputs": [
    {
     "name": "stderr",
     "output_type": "stream",
     "text": [
      "<ipython-input-42-15fd3a8c652e>:16: SettingWithCopyWarning: \n",
      "A value is trying to be set on a copy of a slice from a DataFrame.\n",
      "Try using .loc[row_indexer,col_indexer] = value instead\n",
      "\n",
      "See the caveats in the documentation: https://pandas.pydata.org/pandas-docs/stable/user_guide/indexing.html#returning-a-view-versus-a-copy\n",
      "  sex_abuse_data['TIME']=np.select(old7,new7,default='null')\n"
     ]
    }
   ],
   "source": [
    "old7=[\n",
    "    (sex_abuse_data['hour']=='00'),(sex_abuse_data['hour']=='01'),(sex_abuse_data['hour']=='02'),\n",
    "    (sex_abuse_data['hour']=='03'),(sex_abuse_data['hour']=='04'),(sex_abuse_data['hour']=='05'),\n",
    "    (sex_abuse_data['hour']=='06'),(sex_abuse_data['hour']=='07'),(sex_abuse_data['hour']=='08'),\n",
    "    (sex_abuse_data['hour']=='09'),(sex_abuse_data['hour']=='10'),(sex_abuse_data['hour']=='11'),\n",
    "    (sex_abuse_data['hour']=='12'),(sex_abuse_data['hour']=='13'),(sex_abuse_data['hour']=='14'),\n",
    "    (sex_abuse_data['hour']=='15'),(sex_abuse_data['hour']=='16'),(sex_abuse_data['hour']=='17'),\n",
    "    (sex_abuse_data['hour']=='18'),(sex_abuse_data['hour']=='19'),(sex_abuse_data['hour']=='20'),\n",
    "    (sex_abuse_data['hour']=='21'),(sex_abuse_data['hour']=='22'),(sex_abuse_data['hour']=='23')\n",
    "]\n",
    "\n",
    "new7=['12AM','1AM','2AM','3AM','4AM','5AM','6AM','7AM','8AM','9AM','10AM','11AM','12PM',\n",
    "         '1PM','2PM','3PM','4PM','5PM','6PM','7PM','8PM','9PM','10PM','11PM'\n",
    "]\n",
    "\n",
    "sex_abuse_data['TIME']=np.select(old7,new7,default='null')"
   ]
  },
  {
   "cell_type": "code",
   "execution_count": 43,
   "metadata": {},
   "outputs": [],
   "source": [
    "#sex_abuse_data.sort_values(\"hour\")"
   ]
  },
  {
   "cell_type": "markdown",
   "metadata": {},
   "source": [
    "###  Theft from auto"
   ]
  },
  {
   "cell_type": "code",
   "execution_count": 44,
   "metadata": {},
   "outputs": [],
   "source": [
    "theft_frm_auto_data=grouped_offenses.loc[grouped_offenses[\"OFFENSE\"]==\"THEFT F/AUTO\",:]"
   ]
  },
  {
   "cell_type": "code",
   "execution_count": 45,
   "metadata": {},
   "outputs": [],
   "source": [
    "#theft_frm_auto_data.sort_values(\"hour\")"
   ]
  },
  {
   "cell_type": "code",
   "execution_count": 46,
   "metadata": {},
   "outputs": [
    {
     "name": "stderr",
     "output_type": "stream",
     "text": [
      "<ipython-input-46-6cd79eed9e73>:16: SettingWithCopyWarning: \n",
      "A value is trying to be set on a copy of a slice from a DataFrame.\n",
      "Try using .loc[row_indexer,col_indexer] = value instead\n",
      "\n",
      "See the caveats in the documentation: https://pandas.pydata.org/pandas-docs/stable/user_guide/indexing.html#returning-a-view-versus-a-copy\n",
      "  theft_frm_auto_data['TIME']=np.select(old8,new8,default='null')\n"
     ]
    }
   ],
   "source": [
    "old8=[\n",
    "    (theft_frm_auto_data['hour']=='00'),(theft_frm_auto_data['hour']=='01'),(theft_frm_auto_data['hour']=='02'),\n",
    "    (theft_frm_auto_data['hour']=='03'),(theft_frm_auto_data['hour']=='04'),(theft_frm_auto_data['hour']=='05'),\n",
    "    (theft_frm_auto_data['hour']=='06'),(theft_frm_auto_data['hour']=='07'),(theft_frm_auto_data['hour']=='08'),\n",
    "    (theft_frm_auto_data['hour']=='09'),(theft_frm_auto_data['hour']=='10'),(theft_frm_auto_data['hour']=='11'),\n",
    "    (theft_frm_auto_data['hour']=='12'),(theft_frm_auto_data['hour']=='13'),(theft_frm_auto_data['hour']=='14'),\n",
    "    (theft_frm_auto_data['hour']=='15'),(theft_frm_auto_data['hour']=='16'),(theft_frm_auto_data['hour']=='17'),\n",
    "    (theft_frm_auto_data['hour']=='18'),(theft_frm_auto_data['hour']=='19'),(theft_frm_auto_data['hour']=='20'),\n",
    "    (theft_frm_auto_data['hour']=='21'),(theft_frm_auto_data['hour']=='22'),(theft_frm_auto_data['hour']=='23')\n",
    "]\n",
    "\n",
    "new8=['12AM','1AM','2AM','3AM','4AM','5AM','6AM','7AM','8AM','9AM','10AM','11AM','12PM',\n",
    "         '1PM','2PM','3PM','4PM','5PM','6PM','7PM','8PM','9PM','10PM','11PM'\n",
    "]\n",
    "\n",
    "theft_frm_auto_data['TIME']=np.select(old8,new8,default='null')"
   ]
  },
  {
   "cell_type": "code",
   "execution_count": 47,
   "metadata": {},
   "outputs": [],
   "source": [
    "#theft_frm_auto_data.sort_values(\"hour\")"
   ]
  },
  {
   "cell_type": "markdown",
   "metadata": {},
   "source": [
    "### Theft other"
   ]
  },
  {
   "cell_type": "code",
   "execution_count": 48,
   "metadata": {},
   "outputs": [],
   "source": [
    "theft_other_data=grouped_offenses.loc[grouped_offenses[\"OFFENSE\"]==\"THEFT/OTHER\",:]"
   ]
  },
  {
   "cell_type": "code",
   "execution_count": 49,
   "metadata": {},
   "outputs": [],
   "source": [
    "#theft_other_data.sort_values(\"hour\")"
   ]
  },
  {
   "cell_type": "code",
   "execution_count": 50,
   "metadata": {},
   "outputs": [
    {
     "name": "stderr",
     "output_type": "stream",
     "text": [
      "<ipython-input-50-1084c2c4f033>:16: SettingWithCopyWarning: \n",
      "A value is trying to be set on a copy of a slice from a DataFrame.\n",
      "Try using .loc[row_indexer,col_indexer] = value instead\n",
      "\n",
      "See the caveats in the documentation: https://pandas.pydata.org/pandas-docs/stable/user_guide/indexing.html#returning-a-view-versus-a-copy\n",
      "  theft_other_data['TIME']=np.select(old9,new9,default='null')\n"
     ]
    }
   ],
   "source": [
    "old9=[\n",
    "    (theft_other_data['hour']=='00'),(theft_other_data['hour']=='01'),(theft_other_data['hour']=='02'),\n",
    "    (theft_other_data['hour']=='03'),(theft_other_data['hour']=='04'),(theft_other_data['hour']=='05'),\n",
    "    (theft_other_data['hour']=='06'),(theft_other_data['hour']=='07'),(theft_other_data['hour']=='08'),\n",
    "    (theft_other_data['hour']=='09'),(theft_other_data['hour']=='10'),(theft_other_data['hour']=='11'),\n",
    "    (theft_other_data['hour']=='12'),(theft_other_data['hour']=='13'),(theft_other_data['hour']=='14'),\n",
    "    (theft_other_data['hour']=='15'),(theft_other_data['hour']=='16'),(theft_other_data['hour']=='17'),\n",
    "    (theft_other_data['hour']=='18'),(theft_other_data['hour']=='19'),(theft_other_data['hour']=='20'),\n",
    "    (theft_other_data['hour']=='21'),(theft_other_data['hour']=='22'),(theft_other_data['hour']=='23')\n",
    "]\n",
    "\n",
    "new9=['12AM','1AM','2AM','3AM','4AM','5AM','6AM','7AM','8AM','9AM','10AM','11AM','12PM',\n",
    "         '1PM','2PM','3PM','4PM','5PM','6PM','7PM','8PM','9PM','10PM','11PM'\n",
    "]\n",
    "\n",
    "theft_other_data['TIME']=np.select(old9,new9,default='null')"
   ]
  },
  {
   "cell_type": "code",
   "execution_count": 51,
   "metadata": {},
   "outputs": [],
   "source": [
    "#theft_other_data.sort_values(\"hour\")"
   ]
  },
  {
   "cell_type": "markdown",
   "metadata": {},
   "source": [
    "### Append dataframes "
   ]
  },
  {
   "cell_type": "code",
   "execution_count": 52,
   "metadata": {},
   "outputs": [],
   "source": [
    "df1=arson_data.append(assault_weapon_data)\n",
    "df2=df1.append(burglary_data)\n",
    "df3=df2.append(homicide_data)\n",
    "df4=df3.append(mv_theft_data)\n",
    "df5=df4.append(robbery_data)\n",
    "df6=df5.append(sex_abuse_data)\n",
    "df7=df6.append(theft_frm_auto_data)\n",
    "df8=df7.append(theft_other_data)"
   ]
  },
  {
   "cell_type": "code",
   "execution_count": 53,
   "metadata": {},
   "outputs": [
    {
     "data": {
      "text/html": [
       "<div>\n",
       "<style scoped>\n",
       "    .dataframe tbody tr th:only-of-type {\n",
       "        vertical-align: middle;\n",
       "    }\n",
       "\n",
       "    .dataframe tbody tr th {\n",
       "        vertical-align: top;\n",
       "    }\n",
       "\n",
       "    .dataframe thead th {\n",
       "        text-align: right;\n",
       "    }\n",
       "</style>\n",
       "<table border=\"1\" class=\"dataframe\">\n",
       "  <thead>\n",
       "    <tr style=\"text-align: right;\">\n",
       "      <th></th>\n",
       "      <th>OFFENSE</th>\n",
       "      <th>hour</th>\n",
       "      <th>count</th>\n",
       "      <th>TIME</th>\n",
       "    </tr>\n",
       "  </thead>\n",
       "  <tbody>\n",
       "    <tr>\n",
       "      <th>0</th>\n",
       "      <td>ARSON</td>\n",
       "      <td>01</td>\n",
       "      <td>1</td>\n",
       "      <td>1AM</td>\n",
       "    </tr>\n",
       "    <tr>\n",
       "      <th>1</th>\n",
       "      <td>ARSON</td>\n",
       "      <td>03</td>\n",
       "      <td>1</td>\n",
       "      <td>3AM</td>\n",
       "    </tr>\n",
       "    <tr>\n",
       "      <th>2</th>\n",
       "      <td>ARSON</td>\n",
       "      <td>07</td>\n",
       "      <td>1</td>\n",
       "      <td>7AM</td>\n",
       "    </tr>\n",
       "    <tr>\n",
       "      <th>3</th>\n",
       "      <td>ARSON</td>\n",
       "      <td>20</td>\n",
       "      <td>1</td>\n",
       "      <td>8PM</td>\n",
       "    </tr>\n",
       "    <tr>\n",
       "      <th>4</th>\n",
       "      <td>ARSON</td>\n",
       "      <td>22</td>\n",
       "      <td>1</td>\n",
       "      <td>10PM</td>\n",
       "    </tr>\n",
       "    <tr>\n",
       "      <th>...</th>\n",
       "      <td>...</td>\n",
       "      <td>...</td>\n",
       "      <td>...</td>\n",
       "      <td>...</td>\n",
       "    </tr>\n",
       "    <tr>\n",
       "      <th>169</th>\n",
       "      <td>THEFT/OTHER</td>\n",
       "      <td>19</td>\n",
       "      <td>954</td>\n",
       "      <td>7PM</td>\n",
       "    </tr>\n",
       "    <tr>\n",
       "      <th>170</th>\n",
       "      <td>THEFT/OTHER</td>\n",
       "      <td>20</td>\n",
       "      <td>934</td>\n",
       "      <td>8PM</td>\n",
       "    </tr>\n",
       "    <tr>\n",
       "      <th>171</th>\n",
       "      <td>THEFT/OTHER</td>\n",
       "      <td>21</td>\n",
       "      <td>982</td>\n",
       "      <td>9PM</td>\n",
       "    </tr>\n",
       "    <tr>\n",
       "      <th>172</th>\n",
       "      <td>THEFT/OTHER</td>\n",
       "      <td>22</td>\n",
       "      <td>850</td>\n",
       "      <td>10PM</td>\n",
       "    </tr>\n",
       "    <tr>\n",
       "      <th>173</th>\n",
       "      <td>THEFT/OTHER</td>\n",
       "      <td>23</td>\n",
       "      <td>576</td>\n",
       "      <td>11PM</td>\n",
       "    </tr>\n",
       "  </tbody>\n",
       "</table>\n",
       "<p>216 rows × 4 columns</p>\n",
       "</div>"
      ],
      "text/plain": [
       "         OFFENSE hour  count  TIME\n",
       "0          ARSON   01      1   1AM\n",
       "1          ARSON   03      1   3AM\n",
       "2          ARSON   07      1   7AM\n",
       "3          ARSON   20      1   8PM\n",
       "4          ARSON   22      1  10PM\n",
       "..           ...  ...    ...   ...\n",
       "169  THEFT/OTHER   19    954   7PM\n",
       "170  THEFT/OTHER   20    934   8PM\n",
       "171  THEFT/OTHER   21    982   9PM\n",
       "172  THEFT/OTHER   22    850  10PM\n",
       "173  THEFT/OTHER   23    576  11PM\n",
       "\n",
       "[216 rows x 4 columns]"
      ]
     },
     "execution_count": 53,
     "metadata": {},
     "output_type": "execute_result"
    }
   ],
   "source": [
    "df8"
   ]
  },
  {
   "cell_type": "code",
   "execution_count": 54,
   "metadata": {},
   "outputs": [],
   "source": [
    "import json"
   ]
  },
  {
   "cell_type": "code",
   "execution_count": 55,
   "metadata": {},
   "outputs": [],
   "source": [
    "crime_2018 = df8.to_json(orient = 'records')\n",
    "parsed = json.loads(crime_2018)"
   ]
  },
  {
   "cell_type": "code",
   "execution_count": 56,
   "metadata": {},
   "outputs": [],
   "source": [
    "with open('../static/crime_json/crime_2018.json', 'w') as f:\n",
    "    json.dump(parsed, f, indent=4)"
   ]
  },
  {
   "cell_type": "code",
   "execution_count": null,
   "metadata": {},
   "outputs": [],
   "source": []
  }
 ],
 "metadata": {
  "kernelspec": {
   "display_name": "Python 3",
   "language": "python",
   "name": "python3"
  },
  "language_info": {
   "codemirror_mode": {
    "name": "ipython",
    "version": 3
   },
   "file_extension": ".py",
   "mimetype": "text/x-python",
   "name": "python",
   "nbconvert_exporter": "python",
   "pygments_lexer": "ipython3",
   "version": "3.8.3"
  }
 },
 "nbformat": 4,
 "nbformat_minor": 4
}
