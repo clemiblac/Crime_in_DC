{
 "cells": [
  {
   "cell_type": "code",
   "execution_count": 1,
   "metadata": {},
   "outputs": [],
   "source": [
    "import pandas as pd\n",
    "import json\n",
    "from sqlalchemy import create_engine\n",
    "import pymysql\n",
    "from config import (username,password, host, database)"
   ]
  },
  {
   "cell_type": "code",
   "execution_count": 2,
   "metadata": {},
   "outputs": [
    {
     "name": "stdout",
     "output_type": "stream",
     "text": [
      "2020-09-08 17:55:26,659 INFO sqlalchemy.engine.base.Engine SHOW VARIABLES LIKE 'sql_mode'\n",
      "2020-09-08 17:55:26,670 INFO sqlalchemy.engine.base.Engine ()\n",
      "2020-09-08 17:55:26,688 INFO sqlalchemy.engine.base.Engine SHOW VARIABLES LIKE 'lower_case_table_names'\n",
      "2020-09-08 17:55:26,690 INFO sqlalchemy.engine.base.Engine ()\n",
      "2020-09-08 17:55:26,725 INFO sqlalchemy.engine.base.Engine SELECT DATABASE()\n",
      "2020-09-08 17:55:26,728 INFO sqlalchemy.engine.base.Engine ()\n",
      "2020-09-08 17:55:26,760 INFO sqlalchemy.engine.base.Engine show collation where `Charset` = 'utf8mb4' and `Collation` = 'utf8mb4_bin'\n",
      "2020-09-08 17:55:26,761 INFO sqlalchemy.engine.base.Engine ()\n",
      "2020-09-08 17:55:26,784 INFO sqlalchemy.engine.base.Engine SELECT CAST('test plain returns' AS CHAR(60)) AS anon_1\n",
      "2020-09-08 17:55:26,786 INFO sqlalchemy.engine.base.Engine ()\n",
      "2020-09-08 17:55:26,802 INFO sqlalchemy.engine.base.Engine SELECT CAST('test unicode returns' AS CHAR(60)) AS anon_1\n",
      "2020-09-08 17:55:26,803 INFO sqlalchemy.engine.base.Engine ()\n",
      "2020-09-08 17:55:26,821 INFO sqlalchemy.engine.base.Engine SELECT CAST('test collated returns' AS CHAR CHARACTER SET utf8mb4) COLLATE utf8mb4_bin AS anon_1\n",
      "2020-09-08 17:55:26,823 INFO sqlalchemy.engine.base.Engine ()\n"
     ]
    }
   ],
   "source": [
    "target = f\"mysql://{username}:{password}@{host}/{database}\"\n",
    "engine = create_engine(target,echo = True)\n",
    "connection = engine.connect()"
   ]
  },
  {
   "cell_type": "code",
   "execution_count": 3,
   "metadata": {},
   "outputs": [],
   "source": [
    "police_db = pd.read_csv(\"Police_Stations.csv\")\n",
    "grocery_db = pd.read_csv(\"Grocery_Store_Locations.csv\")\n",
    "pri_school_db = pd.read_csv(\"Independent_Schools.csv\")\n",
    "pub_school_db = pd.read_csv(\"Public_Schools.csv\")\n",
    "police = \"dc_police\"\n",
    "grocery = \"dc_grocery\"\n",
    "pub_school = \"dc_pub_schools\"\n",
    "pri_school = \"dc_pri_schools\""
   ]
  },
  {
   "cell_type": "code",
   "execution_count": 4,
   "metadata": {},
   "outputs": [
    {
     "name": "stdout",
     "output_type": "stream",
     "text": [
      "2020-09-08 17:55:26,993 INFO sqlalchemy.engine.base.Engine DESCRIBE `dc_police`\n",
      "2020-09-08 17:55:26,994 INFO sqlalchemy.engine.base.Engine ()\n",
      "2020-09-08 17:55:27,013 INFO sqlalchemy.engine.base.Engine ROLLBACK\n",
      "2020-09-08 17:55:27,035 INFO sqlalchemy.engine.base.Engine \n",
      "CREATE TABLE dc_police (\n",
      "\t`index` BIGINT, \n",
      "\t`X` FLOAT(53), \n",
      "\t`Y` FLOAT(53), \n",
      "\t`OBJECTID` BIGINT, \n",
      "\t`CONTACT` TEXT, \n",
      "\t`ROOM` TEXT, \n",
      "\t`ZIP` BIGINT, \n",
      "\t`PHONE` TEXT, \n",
      "\t`FAX` TEXT, \n",
      "\t`NAME` TEXT, \n",
      "\t`ADDRESS` TEXT, \n",
      "\t`WEB_URL` TEXT, \n",
      "\t`GIS_ID` TEXT, \n",
      "\t`TYPE` TEXT, \n",
      "\t`ADDRESS_ID` BIGINT\n",
      ")\n",
      "\n",
      "\n",
      "2020-09-08 17:55:27,036 INFO sqlalchemy.engine.base.Engine ()\n",
      "2020-09-08 17:55:27,158 INFO sqlalchemy.engine.base.Engine COMMIT\n",
      "2020-09-08 17:55:27,176 INFO sqlalchemy.engine.base.Engine CREATE INDEX ix_dc_police_index ON dc_police (`index`)\n",
      "2020-09-08 17:55:27,179 INFO sqlalchemy.engine.base.Engine ()\n",
      "2020-09-08 17:55:27,233 INFO sqlalchemy.engine.base.Engine COMMIT\n",
      "2020-09-08 17:55:27,253 INFO sqlalchemy.engine.base.Engine BEGIN (implicit)\n",
      "2020-09-08 17:55:27,257 INFO sqlalchemy.engine.base.Engine INSERT INTO dc_police (`index`, `X`, `Y`, `OBJECTID`, `CONTACT`, `ROOM`, `ZIP`, `PHONE`, `FAX`, `NAME`, `ADDRESS`, `WEB_URL`, `GIS_ID`, `TYPE`, `ADDRESS_ID`) VALUES (%s, %s, %s, %s, %s, %s, %s, %s, %s, %s, %s, %s, %s, %s, %s)\n",
      "2020-09-08 17:55:27,259 INFO sqlalchemy.engine.base.Engine ((0, -76.9428875886278, 38.8924912860884, 1, 'Cmdr  Robin Hoey', ' ', 20019, '(202) 698-0880', '(202) 398-5397', 'District 6 (6D)', '100 42ND STREET NE', 'http://mpdc.dc.gov/page/police-districts-and-police-service-areas', 'pol_1', 'Station', 294469), (1, -76.9687109642132, 38.8723715422552, 2, 'Insp  Alton Bigelow', ' ', 20019, '(202) 698-2088', '(202) 584-5397', 'District 6 Substation (6D-1)', '2701 PENNSYLVANIA AVENUE SE', 'http://mpdc.dc.gov/page/police-districts-and-police-service-areas', 'pol_2', 'Substation', 45427), (2, -77.0379731038701, 38.9178750629361, 3, 'Cmdr  Larry McCoy', ' ', 20009, '(202) 673-6815', '(202) 518-0008', 'District 3 (3D)', '1620 V STREET NW', 'http://mpdc.dc.gov/page/police-districts-and-police-service-areas', 'pol_3', 'Station', 241847), (3, -77.025636486243, 38.932679088944, 4, 'Insp  Diane Groomes', ' ', 20010, '(202) 576-8222', '(202) 576-3350', 'District 4 Substation', '750 PARK ROAD NW', 'http://mpdc.dc.gov/page/police-districts-and-police-service-areas', 'pol_4', 'Substation', 233054), (4, -77.01656262121179, 38.922189194082996, 5, 'Off Myra Jordan', ' ', 20009, '(202) 671-3550', ' ', 'Deaf and Hard Hearing Liaison Unit', '310 MCMILLAN DRIVE NW', 'http://mpdc.dc.gov/page/police-districts-and-police-service-areas', 'pol_5', None, 299642), (5, -76.97364232760141, 38.9150850473364, 6, 'Cmdr  Jennifer Gree', ' ', 20002, '(202) 698-0150', '(202) 727-8727 ', 'District 5 (5D)', '1805 BLADENSBURG ROAD NE', 'http://mpdc.dc.gov/page/police-districts-and-police-service-areas', 'pol_6', 'Station', 286486), (6, -76.9992429762178, 38.883375432073, 7, 'Insp  Andrew Solberg', ' ', 20003, '(202) 698-0068', '(202) 543-2352', 'District 1 Substation (1D-1) ', '500 E STREET SE', 'http://mpdc.dc.gov/page/police-districts-and-police-service-areas', 'pol_7', 'Substation', 289645), (7, -77.0428671820356, 38.9221671897141, 8, 'Sgt  Juan Espinal', ' ', 20009, '(202) 673-4445', ' ', 'Latino Liaison Unit', '1800 COLUMBIA ROAD NW', 'http://mpdc.dc.gov/page/police-districts-and-police-service-areas', 'pol_8', None, 235413)  ... displaying 10 of 15 total bound parameter sets ...  (13, -77.0748403666259, 38.93485362329, 14, 'Cmdr  Robert J  Con', ' ', 20016, '(202) 715-7300', '(202) 364-3961', 'District 2 (2D)', '3320 IDAHO AVENUE NW', 'http://mpdc.dc.gov/page/police-districts-and-police-service-areas', 'pol_18', 'Station', 222229), (14, -76.9695236682727, 38.8533635431363, 15, 'Cmdr  Joel Maupin', ' ', 20020, '(202) 698-1500', '(202) 889-3574', 'District 7 (7D)', '2455 ALABAMA AVENUE SE', 'http://mpdc.dc.gov/page/police-districts-and-police-service-areas', 'pol_19', 'Station', 278162))\n",
      "2020-09-08 17:55:27,288 INFO sqlalchemy.engine.base.Engine COMMIT\n",
      "Table dc_police created successfully.\n"
     ]
    }
   ],
   "source": [
    "try:\n",
    "    sql = police_db.to_sql(police, connection, if_exists='replace')\n",
    "except ValueError as vx:\n",
    "    print(vx)\n",
    "except Exception as ex:\n",
    "    print(ex)\n",
    "else:\n",
    "    print(\"Table %s created successfully.\"%police)"
   ]
  },
  {
   "cell_type": "code",
   "execution_count": 5,
   "metadata": {},
   "outputs": [
    {
     "name": "stdout",
     "output_type": "stream",
     "text": [
      "2020-09-08 17:55:27,331 INFO sqlalchemy.engine.base.Engine DESCRIBE `dc_grocery`\n",
      "2020-09-08 17:55:27,334 INFO sqlalchemy.engine.base.Engine ()\n",
      "2020-09-08 17:55:27,350 INFO sqlalchemy.engine.base.Engine ROLLBACK\n",
      "2020-09-08 17:55:27,370 INFO sqlalchemy.engine.base.Engine \n",
      "CREATE TABLE dc_grocery (\n",
      "\t`index` BIGINT, \n",
      "\t`X` FLOAT(53), \n",
      "\t`Y` FLOAT(53), \n",
      "\t`OBJECTID` BIGINT, \n",
      "\t`STORENAME` TEXT, \n",
      "\t`ADDRESS` TEXT, \n",
      "\t`PHONE` BIGINT, \n",
      "\t`PRESENT90` TEXT, \n",
      "\t`PRESENT95` TEXT, \n",
      "\t`PRESENT00` TEXT, \n",
      "\t`PRESENT05` TEXT, \n",
      "\t`PRESENT08` TEXT, \n",
      "\t`NOTES` TEXT, \n",
      "\t`PRESENT09` TEXT, \n",
      "\t`PRESENT10` TEXT, \n",
      "\t`PRESENT11` TEXT, \n",
      "\t`PRESENT12` TEXT, \n",
      "\t`PRESENT13` TEXT, \n",
      "\t`PRESENT14` TEXT, \n",
      "\t`PRESENT15` TEXT, \n",
      "\t`PRESENT16` TEXT, \n",
      "\t`PRESENT17` TEXT, \n",
      "\t`X_COORD` FLOAT(53), \n",
      "\t`Y_COORD` FLOAT(53), \n",
      "\t`WARD` TEXT, \n",
      "\t`ADDRESS_ID` BIGINT, \n",
      "\t`SSL` TEXT, \n",
      "\t`ZIPCODE` BIGINT, \n",
      "\t`PRESENT18` TEXT, \n",
      "\t`GIS_ID` TEXT\n",
      ")\n",
      "\n",
      "\n",
      "2020-09-08 17:55:27,371 INFO sqlalchemy.engine.base.Engine ()\n",
      "2020-09-08 17:55:27,419 INFO sqlalchemy.engine.base.Engine COMMIT\n",
      "2020-09-08 17:55:27,436 INFO sqlalchemy.engine.base.Engine CREATE INDEX ix_dc_grocery_index ON dc_grocery (`index`)\n",
      "2020-09-08 17:55:27,440 INFO sqlalchemy.engine.base.Engine ()\n",
      "2020-09-08 17:55:27,483 INFO sqlalchemy.engine.base.Engine COMMIT\n",
      "2020-09-08 17:55:27,502 INFO sqlalchemy.engine.base.Engine BEGIN (implicit)\n",
      "2020-09-08 17:55:27,517 INFO sqlalchemy.engine.base.Engine INSERT INTO dc_grocery (`index`, `X`, `Y`, `OBJECTID`, `STORENAME`, `ADDRESS`, `PHONE`, `PRESENT90`, `PRESENT95`, `PRESENT00`, `PRESENT05`, `PRESENT08`, `NOTES`, `PRESENT09`, `PRESENT10`, `PRESENT11`, `PRESENT12`, `PRESENT13`, `PRESENT14`, `PRESENT15`, `PRESENT16`, `PRESENT17`, `X_COORD`, `Y_COORD`, `WARD`, `ADDRESS_ID`, `SSL`, `ZIPCODE`, `PRESENT18`, `GIS_ID`) VALUES (%s, %s, %s, %s, %s, %s, %s, %s, %s, %s, %s, %s, %s, %s, %s, %s, %s, %s, %s, %s, %s, %s, %s, %s, %s, %s, %s, %s, %s, %s)\n",
      "2020-09-08 17:55:27,520 INFO sqlalchemy.engine.base.Engine ((0, -77.02698057901291, 38.9844552988866, 1, 'Target ', '7828 GEORGIA  AVE NW', 2028923822, None, None, None, None, None, None, None, None, None, None, None, None, None, None, None, 397662.57, 146280.07, 'Ward 4', 300512, '2960    0017', 20012, None, 'GroceryStorePt_1'), (1, -77.0260657546085, 38.98346370182271, 2, 'International Progresso Market', '7719 GEORGIA AVE NW', 2025455015, None, None, None, None, None, None, None, None, None, None, None, None, None, None, None, 397741.8, 146169.97, 'Ward 4', 285417, '2961    0810', 20012, None, 'GroceryStorePt_2'), (2, -77.0277982734047, 38.9677712350042, 3, 'Jocelyn’s Market ', '6404 GEORGIA AVE NW', 2027227574, None, None, None, None, None, None, None, None, None, None, None, None, None, None, None, 397591.16, 144428.0, 'Ward 4', 285334, '2945    0839', 20012, None, 'GroceryStorePt_3'), (3, -77.07645930079741, 38.965553240286205, 4, \"Magruder's\", '5626 CONNECTICUT AVE NW', 2024644946, 'Yes', 'Yes', 'Yes', 'Yes', 'Yes', ' ', 'Yes', 'Yes', 'Yes', 'Yes', 'Yes', 'Yes', 'Yes', 'Yes', 'Yes', 393373.92, 144184.19, 'Ward 3', 263860, '1860    0013', 20015, 'Yes', 'GroceryStorePt_4'), (4, -77.07490966531479, 38.9646007197834, 5, 'Safeway', '5545 CONNECTICUT AVE NW', 2022446097, 'No', 'Yes', 'Yes', 'Yes', 'Yes', ' ', 'Yes', 'Yes', 'Yes', 'Yes', 'Yes', 'Yes', 'Yes', 'Yes', 'Yes', 393508.13, 144078.34, 'Ward 3', 263999, '1867    0092', 20015, 'Yes', 'GroceryStorePt_5'), (5, -77.0272851396928, 38.962078321939, 6, 'Walmart Supercenter', '5929 GEORGIA AVE NW', 2027193770, 'No', 'No', 'No', 'No', 'No', 'Georgia Ave', 'No', 'No', 'No', 'No', 'Yes', 'Yes', 'Yes', 'Yes', 'Yes', 397635.44, 143796.02, 'Ward 4', 254296, '2986    0039', 20011, 'Yes', 'GroceryStorePt_6'), (6, -77.0021444681289, 38.957976693092206, 7, 'Walmart Supercenter', '310 RIGGS RD NE', 2027564418, 'No', 'No', 'No', 'No', 'No', 'Riggs Road', 'No', 'No', 'No', 'No', 'No', 'No', 'Yes', 'Yes', 'Yes', 399814.33, 143340.35, 'Ward 4', 311574, '3748    0052', 20011, 'Yes', 'GroceryStorePt_7'), (7, -77.02131788768959, 38.956604251764205, 8, 'Tropimart International Foods', '607 KENNEDY ST NW', 2026272752, None, None, None, None, None, None, None, None, None, None, None, None, None, None, None, 398152.47, 143188.21, 'Ward 4', 246733, '3207    0089', 20011, None, 'GroceryStorePt_8')  ... displaying 10 of 79 total bound parameter sets ...  (77, -76.9727478673994, 38.8741333364631, 78, 'Yes! Organic', '2323 PENNSYLVANIA AVE SE', 2025821480, 'No', 'No', 'No', 'No', 'No', ' ', 'No', 'Yes', 'Yes', 'Yes', 'No', 'No', 'No', 'No', 'No', 402365.01, 134033.39, 'Ward 7', 48543, '5560    0055', 20020, 'No', 'GroceryStorePt_78'), (78, -77.0248679841667, 38.919757346222504, 79, 'Whole Foods', '967 FLORIDA AVE NW', 2025193400, 'No', 'No', 'No', 'No', 'No', None, 'No', 'No', 'No', 'No', 'No', 'No', 'No', 'No', 'No', 397861.5, 139107.39, 'Ward 1', 319123, '2873    1102', 20001, 'No', 'GroceryStorePt_79'))\n",
      "2020-09-08 17:55:27,604 INFO sqlalchemy.engine.base.Engine COMMIT\n",
      "Table dc_grocery created successfully.\n"
     ]
    }
   ],
   "source": [
    "try:\n",
    "    sql = grocery_db.to_sql(grocery, connection, if_exists='replace')\n",
    "except ValueError as vx:\n",
    "    print(vx)\n",
    "except Exception as ex:\n",
    "    print(ex)\n",
    "else:\n",
    "    print(\"Table %s created successfully.\"%grocery)"
   ]
  },
  {
   "cell_type": "code",
   "execution_count": 6,
   "metadata": {},
   "outputs": [
    {
     "name": "stdout",
     "output_type": "stream",
     "text": [
      "2020-09-08 17:55:27,655 INFO sqlalchemy.engine.base.Engine DESCRIBE `dc_pub_schools`\n",
      "2020-09-08 17:55:27,656 INFO sqlalchemy.engine.base.Engine ()\n",
      "2020-09-08 17:55:27,672 INFO sqlalchemy.engine.base.Engine ROLLBACK\n",
      "2020-09-08 17:55:27,703 INFO sqlalchemy.engine.base.Engine \n",
      "CREATE TABLE dc_pub_schools (\n",
      "\t`index` BIGINT, \n",
      "\t`X` FLOAT(53), \n",
      "\t`Y` FLOAT(53), \n",
      "\t`OBJECTID` BIGINT, \n",
      "\t`NAME` TEXT, \n",
      "\t`ADDRESS` TEXT, \n",
      "\t`FACUSE` TEXT, \n",
      "\t`LEVEL_` TEXT, \n",
      "\t`STATUS` TEXT, \n",
      "\t`PHONE` TEXT, \n",
      "\t`TOTAL_STUD` FLOAT(53), \n",
      "\t`SSL` TEXT, \n",
      "\t`GIS_ID` TEXT, \n",
      "\t`WEB_URL` TEXT, \n",
      "\t`BLDG_NUM` FLOAT(53), \n",
      "\t`SCH_PROG` TEXT, \n",
      "\t`CAPITALGAINS` TEXT, \n",
      "\t`CAPACITY` FLOAT(53), \n",
      "\t`YEAR_BUILT` FLOAT(53), \n",
      "\t`SQUARE_FOOTAGE` FLOAT(53), \n",
      "\t`POPULATION_PLAN` FLOAT(53), \n",
      "\t`LONGITUDE` FLOAT(53), \n",
      "\t`LATITUDE` FLOAT(53), \n",
      "\t`SCHOOL_YEA` TEXT, \n",
      "\t`LEA_NAME` TEXT, \n",
      "\t`LEA_ID` BIGINT, \n",
      "\t`SCHOOL_NAM` TEXT, \n",
      "\t`SCHOOL_ID` BIGINT, \n",
      "\t`GRADES` TEXT, \n",
      "\t`MAR_ID` BIGINT, \n",
      "\t`XCOORD` FLOAT(53), \n",
      "\t`YCOORD` FLOAT(53), \n",
      "\t`ZIPCODE` BIGINT, \n",
      "\t`PK3` FLOAT(53), \n",
      "\t`PK4` FLOAT(53), \n",
      "\t`UN_CE` FLOAT(53), \n",
      "\t`FACILITY_ID` TEXT\n",
      ")\n",
      "\n",
      "\n",
      "2020-09-08 17:55:27,704 INFO sqlalchemy.engine.base.Engine ()\n",
      "2020-09-08 17:55:27,751 INFO sqlalchemy.engine.base.Engine COMMIT\n",
      "2020-09-08 17:55:27,768 INFO sqlalchemy.engine.base.Engine CREATE INDEX ix_dc_pub_schools_index ON dc_pub_schools (`index`)\n",
      "2020-09-08 17:55:27,771 INFO sqlalchemy.engine.base.Engine ()\n",
      "2020-09-08 17:55:27,814 INFO sqlalchemy.engine.base.Engine COMMIT\n",
      "2020-09-08 17:55:27,832 INFO sqlalchemy.engine.base.Engine BEGIN (implicit)\n",
      "2020-09-08 17:55:27,846 INFO sqlalchemy.engine.base.Engine INSERT INTO dc_pub_schools (`index`, `X`, `Y`, `OBJECTID`, `NAME`, `ADDRESS`, `FACUSE`, `LEVEL_`, `STATUS`, `PHONE`, `TOTAL_STUD`, `SSL`, `GIS_ID`, `WEB_URL`, `BLDG_NUM`, `SCH_PROG`, `CAPITALGAINS`, `CAPACITY`, `YEAR_BUILT`, `SQUARE_FOOTAGE`, `POPULATION_PLAN`, `LONGITUDE`, `LATITUDE`, `SCHOOL_YEA`, `LEA_NAME`, `LEA_ID`, `SCHOOL_NAM`, `SCHOOL_ID`, `GRADES`, `MAR_ID`, `XCOORD`, `YCOORD`, `ZIPCODE`, `PK3`, `PK4`, `UN_CE`, `FACILITY_ID`) VALUES (%s, %s, %s, %s, %s, %s, %s, %s, %s, %s, %s, %s, %s, %s, %s, %s, %s, %s, %s, %s, %s, %s, %s, %s, %s, %s, %s, %s, %s, %s, %s, %s, %s, %s, %s, %s, %s)\n",
      "2020-09-08 17:55:27,848 INFO sqlalchemy.engine.base.Engine ((0, -76.9998848198793, 38.9599796093501, 27, 'LaSalle-Backus Education Campus', '501 RIGGS ROAD NE', 'Elementary School', 'ES', 'Active', '202-671-6340', 369.0, ' ', 'dcps_264', 'http://www.lasallebackus.com/', 264.0, '264', 'N', 406.0, 1957.0, 63000.0, 425.0, -76.99988254, 38.95997214, '2020-2021', 'District of Columbia Public Schools', 1, 'LaSalle-Backus Education Campus', 264, 'PK3-8th', 294489, 400010.18, 143562.69, 20011, 19.0, 29.0, None, 'DGS_0661.0'), (1, -77.0195805300924, 38.9672920127715, 28, 'Coolidge High School', '6315 5TH STREET NW', 'High School', 'HS', 'Active', '202-671-6080', 346.0, ' ', 'dcps_455', 'http://www.coolidgeshs.org/', 455.0, '455', 'N', 1240.0, 1940.0, 271300.0, 1100.0, -77.01957835, 38.96728457, '2020-2021', 'District of Columbia Public Schools', 1, 'Coolidge High School', 455, '9th-12th', 294615, 398303.3, 144374.62, 20012, None, None, 7.0, 'DGS_0710.0'), (2, -77.0284323136687, 38.9035037912, 29, 'Thomson Elementary School', '1200 L STREET NW', 'Elementary School', 'ES', 'Active', '202-898-4660', 314.0, ' ', 'dcps_326', 'http://www.thomsondcps.org/', 326.0, '326', 'N', None, None, None, None, -77.02843003, 38.90349634, '2020-2021', 'District of Columbia Public Schools', 1, 'Thomson Elementary School', 326, 'PK3-5th', 240922, 397533.99, 137293.77, 20005, 35.0, 30.0, None, 'DGS_0241.0'), (3, -76.9890008581543, 38.8922946631179, 30, 'Maury Elementary School', '1250 CONSTITUTION AVENUE NE', 'Elementary School', 'ES', 'Active', '202-698-3838', 387.0, ' ', 'dcps_274', 'http://www.mauryelementary.com', 274.0, '274', 'N', 276.0, 1886.0, 46800.0, 325.0, -76.98899899999999, 38.892286999999996, '2020-2021', 'District of Columbia Public Schools', 1, 'Maury Elementary School', 274, 'PK3-5th', 294511, 400954.41, 136049.14, 20002, 39.0, 47.0, None, 'DGS_0258.0'), (4, -77.0284730757523, 38.922179988340105, 31, 'Cardozo Education Campus', '1200 CLIFTON STREET NW', 'High School', 'HS', 'Active', '202-673-7385', 797.0, ' ', 'dcps_454', 'http://www.cardozohs.com/', 454.0, '454', 'N', 1565.0, 1926.0, 355400.0, 1100.0, -77.02847069, 38.92217286, '2020-2021', 'District of Columbia Public Schools', 1, 'Cardozo Education Campus', 454, '6th-12th', 294513, 397531.11, 139367.02, 20009, None, None, 20.0, 'DGS_0178.0'), (5, -77.03069113148051, 38.9605431911924, 32, 'Brightwood Education Campus', '1300 NICHOLSON STREET NW', 'Elementary School', 'ES', 'Active', '202-722-5670', 755.0, ' ', 'dcps_213', 'http://www.brightwoodec.org/', 213.0, '213', 'Y', None, None, None, None, -77.03068885, 38.96053573, '2020-2021', 'District of Columbia Public Schools', 1, 'Brightwood Education Campus', 213, 'PK3-8th', 294515, 397340.19, 143625.7, 20011, 39.0, 49.0, None, 'DGS_0270.0'), (6, -76.988588107557, 38.912147050913205, 33, 'Youth Services Center', '1000 MOUNT OLIVET ROAD NE', 'Youth Engagement', 'YE', 'Active', '202-576-8388', 88.0, ' ', 'dcps_948', 'http://profiles.dcps.dc.gov/Youth+Services+Center', 861.0, ' ', 'N', 90.0, 2004.0, None, None, -76.98858584, 38.91213959, '2020-2021', 'District of Columbia Public Schools', 1, 'Youth Services Center', 861, 'Alternative', 290013, 400989.94, 138252.92, 20002, None, None, 1.0, None), (7, -77.07195751610021, 38.9407301065624, 34, 'Hearst Elementary School', '3950 37TH STREET NW', 'Elementary School', 'ES', 'Active', '202-282-0106', 312.0, ' ', 'dcps_258', 'http://www.hearstes.org/', 258.0, '258', 'N', 181.0, 1932.0, 17400.0, 325.0, -77.07195522, 38.94072265, '2020-2021', 'District of Columbia Public Schools', 1, 'Hearst Elementary School', 258, 'PK4-5th', 294586, 393761.89, 141428.28, 20008, 2.0, 43.0, None, 'DGS_0550.0')  ... displaying 10 of 123 total bound parameter sets ...  (121, -77.0192408841983, 38.9658647394466, 104, 'Whittier Education Campus', '6201 5TH STREET NW', 'Elementary School', 'ES', 'Active', '202-576-6156', 341.0, ' ', 'dcps_338', 'http://www.whittierdc.org/', 338.0, '338', 'Y', 517.0, 1926.0, 66600.0, 600.0, -77.0192386, 38.96585727, '2020-2021', 'District of Columbia Public Schools', 1, 'Whittier Education Campus', 338, 'PK3-8th', 294614, 398332.71, 144216.17, 20011, 28.0, 26.0, None, 'DGS_0706.0'), (122, -77.0286148379241, 38.9139087472585, 105, 'Garrison Elementary School', '1200 S STREET NW', 'Elementary School', 'ES', 'Active', '202-673-7263', 253.0, ' ', 'dcps_239', 'http://www.garrisonelementary.org/', 239.0, '239', 'N', 474.0, 1964.0, 60200.0, 325.0, -77.02861256, 38.91390129, '2020-2021', 'District of Columbia Public Schools', 1, 'Garrison Elementary School', 239, 'PK3-5th', 294509, 397518.52, 138448.81, 20009, 44.0, 44.0, None, 'DGS_0242.0'))\n",
      "2020-09-08 17:55:27,963 INFO sqlalchemy.engine.base.Engine COMMIT\n",
      "Table dc_pub_schools created successfully.\n"
     ]
    }
   ],
   "source": [
    "try:\n",
    "    sql = pub_school_db.to_sql(pub_school, connection, if_exists='replace')\n",
    "except ValueError as vx:\n",
    "    print(vx)\n",
    "except Exception as ex:\n",
    "    print(ex)\n",
    "else:\n",
    "    print(\"Table %s created successfully.\"%pub_school)"
   ]
  },
  {
   "cell_type": "code",
   "execution_count": 7,
   "metadata": {},
   "outputs": [
    {
     "name": "stdout",
     "output_type": "stream",
     "text": [
      "2020-09-08 17:55:28,010 INFO sqlalchemy.engine.base.Engine DESCRIBE `dc_pri_schools`\n",
      "2020-09-08 17:55:28,013 INFO sqlalchemy.engine.base.Engine ()\n",
      "2020-09-08 17:55:28,029 INFO sqlalchemy.engine.base.Engine ROLLBACK\n",
      "2020-09-08 17:55:28,055 INFO sqlalchemy.engine.base.Engine \n",
      "CREATE TABLE dc_pri_schools (\n",
      "\t`index` BIGINT, \n",
      "\t`X` FLOAT(53), \n",
      "\t`Y` FLOAT(53), \n",
      "\t`OBJECTID` BIGINT, \n",
      "\t`ID` BIGINT, \n",
      "\t`NAME` TEXT, \n",
      "\t`ADDRESS` TEXT, \n",
      "\t`ZIP` BIGINT, \n",
      "\t`TELEPHONE` TEXT, \n",
      "\t`WEB_URL` TEXT, \n",
      "\t`GIS_ID` TEXT, \n",
      "\t`MAR_ID` BIGINT, \n",
      "\t`XCOORD` FLOAT(53), \n",
      "\t`YCOORD` FLOAT(53), \n",
      "\t`LATITUDE` FLOAT(53), \n",
      "\t`LONGITUDE` FLOAT(53)\n",
      ")\n",
      "\n",
      "\n",
      "2020-09-08 17:55:28,067 INFO sqlalchemy.engine.base.Engine ()\n",
      "2020-09-08 17:55:28,114 INFO sqlalchemy.engine.base.Engine COMMIT\n",
      "2020-09-08 17:55:28,130 INFO sqlalchemy.engine.base.Engine CREATE INDEX ix_dc_pri_schools_index ON dc_pri_schools (`index`)\n",
      "2020-09-08 17:55:28,133 INFO sqlalchemy.engine.base.Engine ()\n",
      "2020-09-08 17:55:28,178 INFO sqlalchemy.engine.base.Engine COMMIT\n",
      "2020-09-08 17:55:28,197 INFO sqlalchemy.engine.base.Engine BEGIN (implicit)\n",
      "2020-09-08 17:55:28,203 INFO sqlalchemy.engine.base.Engine INSERT INTO dc_pri_schools (`index`, `X`, `Y`, `OBJECTID`, `ID`, `NAME`, `ADDRESS`, `ZIP`, `TELEPHONE`, `WEB_URL`, `GIS_ID`, `MAR_ID`, `XCOORD`, `YCOORD`, `LATITUDE`, `LONGITUDE`) VALUES (%s, %s, %s, %s, %s, %s, %s, %s, %s, %s, %s, %s, %s, %s, %s, %s)\n",
      "2020-09-08 17:55:28,205 INFO sqlalchemy.engine.base.Engine ((0, -77.02742263, 38.96438241, 1, 15, 'Bridges Academy', '6119 GEORGIA AVENUE NW', 20011, '202-829-1901', 'https://www.bridgesacademydc.org/', 'IND_003', 295158, 397619.12, 144051.91, 38.96437593, -77.02747204), (1, -77.01420445, 38.90492298, 2, 24, 'Holy Redeemer School', '1135 NEW JERSEY AVENUE NW', 20001, '202-638-5789', 'https://www.holyredeemerdc.org/ ', 'IND_004', 305813, 398764.37, 137449.29, 38.90489991, -77.01424556), (2, -77.07048, 38.90745948, 3, 25, 'Holy Trinity School', '1325 36TH STREET NW', 20007, '202-337-2339', 'https://www.htsdc.org/', 'IND_005', 295119, 393932.64, 137733.52, 38.90744028, -77.069953), (3, -77.03409111, 38.95099175, 4, 27, 'Kingsbury Day School', '5000 14TH STREET NW', 20008, '202-722-5555', 'https://www.kingsbury.org/ ', 'IND_006', 255780, 397047.31, 142564.4, 38.95097432, -77.03406352), (4, -77.06057088, 38.92822227, 5, 30, 'Maret School', '3000 CATHEDRAL AVENUE NW', 20008, '202-939-8800', 'https://www.maret.org', 'IND_007', 220176, 394748.26, 140042.15, 38.92824242, -77.06056706), (5, -76.91346196, 38.8942899, 6, 33, 'Nation House School', '6101 DIX STREET NE', 20019, '202-291-5600', 'https://www.nationhouse.org ', 'IND_008', 151064, 407507.45, 136274.13, 38.89428246, -76.91345959), (6, -77.03676995, 38.949993400000004, 7, 38, 'Parkmont School', '4842 16TH STREET NW', 20011, '202-726-0740', 'https://www.parkmont.org', 'IND_009', 258748, 396811.4, 142452.94, 38.94996943, -77.03678456), (7, -77.0705224, 38.94677392, 8, 49, 'Sheridan School', '4400 36TH STREET NW', 20008, '202-362-7900', 'https://www.sheridanschool.org', 'IND_011', 221854, 393887.11, 142101.06, 38.94678412, -77.07051683)  ... displaying 10 of 54 total bound parameter sets ...  (52, -77.06570846, 38.91092742, 53, 35, 'Little Folks School', '3247 Q STREET NW', 20007, '202-333-6571', 'https://www.littlefolks.org/', 'IND_074', 305086, 394301.26, 138119.52, 38.910920000000004, -77.065706), (53, -77.08244912, 38.94822546, 54, 39, \"St. Columbia's Epicopal Church Nursery School\", '4201 ALBEMARLE STREET NW', 20016, '202-363-4119', 'https://www.columba.org/learn-grow/nursery-school', 'IND_075', 301545, 392853.08, 142261.1, 38.948218, -77.082447))\n",
      "2020-09-08 17:55:28,238 INFO sqlalchemy.engine.base.Engine COMMIT\n",
      "Table dc_pri_schools created successfully.\n"
     ]
    }
   ],
   "source": [
    "try:\n",
    "    sql = pri_school_db.to_sql(pri_school, connection, if_exists='replace')\n",
    "except ValueError as vx:\n",
    "    print(vx)\n",
    "except Exception as ex:\n",
    "    print(ex)\n",
    "else:\n",
    "    print(\"Table %s created successfully.\"%pri_school)"
   ]
  },
  {
   "cell_type": "code",
   "execution_count": 8,
   "metadata": {},
   "outputs": [],
   "source": [
    "connection.close()"
   ]
  }
 ],
 "metadata": {
  "kernelspec": {
   "display_name": "Python 3",
   "language": "python",
   "name": "python3"
  },
  "language_info": {
   "codemirror_mode": {
    "name": "ipython",
    "version": 3
   },
   "file_extension": ".py",
   "mimetype": "text/x-python",
   "name": "python",
   "nbconvert_exporter": "python",
   "pygments_lexer": "ipython3",
   "version": "3.7.4"
  }
 },
 "nbformat": 4,
 "nbformat_minor": 2
}
