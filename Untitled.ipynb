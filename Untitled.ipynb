{
 "cells": [
  {
   "cell_type": "code",
   "execution_count": 1,
   "metadata": {},
   "outputs": [
    {
     "name": "stdout",
     "output_type": "stream",
     "text": [
      "Requirement already satisfied: py-lz4framed in /Users/Sarah/opt/anaconda3/lib/python3.7/site-packages (0.14.0)\r\n"
     ]
    }
   ],
   "source": [
    "!pip install py-lz4framed"
   ]
  },
  {
   "cell_type": "code",
   "execution_count": 2,
   "metadata": {},
   "outputs": [],
   "source": [
    "import os\n",
    "import io\n",
    "import yaml\n",
    "import json\n",
    "from datetime import datetime, timedelta"
   ]
  },
  {
   "cell_type": "code",
   "execution_count": 3,
   "metadata": {},
   "outputs": [],
   "source": [
    "import pandas as pd\n",
    "import psycopg2\n",
    "import boto3\n",
    "\n",
    "import requests\n",
    "from tqdm import tqdm\n",
    "\n",
    "from dateutil.parser import parse as parse_date\n",
    "from urllib.parse import urlencode, quote, urlparse\n",
    "\n",
    "import requests\n",
    "import lz4framed\n",
    "from urllib.parse import urljoin\n",
    "import gzip\n",
    "import subprocess\n",
    "import tarfile"
   ]
  },
  {
   "cell_type": "code",
   "execution_count": 6,
   "metadata": {},
   "outputs": [
    {
     "name": "stdout",
     "output_type": "stream",
     "text": [
      "[<TarInfo '2020-04-01/20200401T210744Z-US-AS701-web_connectivity-20200401T210746Z_AS701_heVvdaYZaPI5lgs8rGuNiqrwKiEaJvEx5miU4nVAOWO4LWImOw-0.2.0-probe.json' at 0x7f89d1424530>, <TarInfo '2020-04-01/20200401T210823Z-US-AS20057-web_connectivity-20200401T210826Z_AS20057_dkSF7zGt5m3t7cNeFaXZHm0weceMkcTUgGYSgrnfRMOPGNve0m-0.2.0-probe.json' at 0x7f89d14247a0>, <TarInfo '2020-04-01/20200401T210829Z-DE-AS6830-web_connectivity-20200401T210829Z_AS6830_pfp4R03XeC3OGCERYppNjcwpJNLolWfQxz4fRKDDXmpw71JDGE-0.2.0-probe.json' at 0x7f89d1424940>, <TarInfo '2020-04-01/20200401T210949Z-PL-AS196883-web_connectivity-20200401T210952Z_AS196883_C63tm9F8MPswazhhcYn59X895FvWJD9vd3Hw3swPOL67Yo1WoJ-0.2.0-probe.json' at 0x7f89d1424ae0>, <TarInfo '2020-04-01/20200401T211011Z-FI-AS790-web_connectivity-20200401T211012Z_AS790_DGCLSlINtIkrZClz1m1zfCmQvM17MkbtkJVDpK8M6qNo2fydIY-0.2.0-probe.json' at 0x7f89d1424c80>, <TarInfo '2020-04-01/20200401T211041Z-DE-AS3320-web_connectivity-20200401T211114Z_AS3320_vCci1yUm27hYXntMlcM95YGS86oUwD7vXKLpZcmqb4kmVsErT4-0.2.0-probe.json' at 0x7f89d1424e20>, <TarInfo '2020-04-01/20200401T211106Z-IT-AS30722-web_connectivity-20200401T211112Z_AS30722_GCt5oFibY21BS1Ml0r61NbQrW2LOVwsZ0g0R0EUlDfzDFUquU9-0.2.0-probe.json' at 0x7f89d1434050>]\n"
     ]
    }
   ],
   "source": [
    "CANNED_BASE_URL = 'http://s3.amazonaws.com/ooni-data/canned/'\n",
    "def load_canned_index(bucket_date):\n",
    "    r = requests.get(\n",
    "            urljoin(CANNED_BASE_URL, '{}/index.json.gz'.format(bucket_date))\n",
    "        )\n",
    "    blob = r.content\n",
    "    return gzip.decompress(blob).split(b'\\n')\n",
    "  \n",
    "def decompress_tar(filename):\n",
    "    tar_data = b''\n",
    "    p = subprocess.Popen([\"lz4\", \"-d\"], stdin=subprocess.PIPE, stdout=subprocess.PIPE)\n",
    "    r = requests.get(urljoin(CANNED_BASE_URL, filename))\n",
    "    stdout_data, _ = p.communicate(input=r.content)\n",
    "    return tarfile.open(mode=\"r:\", fileobj=io.BytesIO(stdout_data))\n",
    "\n",
    "canned_index = load_canned_index('2020-04-01')\n",
    "  ## XXX need to filter by test_name\n",
    "can = json.loads(canned_index[3])\n",
    "tarfd = decompress_tar(can['filename'])\n",
    "print(tarfd.getmembers())"
   ]
  },
  {
   "cell_type": "code",
   "execution_count": null,
   "metadata": {},
   "outputs": [],
   "source": []
  }
 ],
 "metadata": {
  "kernelspec": {
   "display_name": "Python 3",
   "language": "python",
   "name": "python3"
  },
  "language_info": {
   "codemirror_mode": {
    "name": "ipython",
    "version": 3
   },
   "file_extension": ".py",
   "mimetype": "text/x-python",
   "name": "python",
   "nbconvert_exporter": "python",
   "pygments_lexer": "ipython3",
   "version": "3.7.6"
  }
 },
 "nbformat": 4,
 "nbformat_minor": 4
}
