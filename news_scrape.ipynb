{
 "cells": [
  {
   "cell_type": "code",
   "execution_count": 1,
   "metadata": {},
   "outputs": [],
   "source": [
    "import time\n",
    "import pymongo "
   ]
  },
  {
   "cell_type": "code",
   "execution_count": 2,
   "metadata": {},
   "outputs": [],
   "source": [
    "#!pip install --user pandas==1.0.3"
   ]
  },
  {
   "cell_type": "code",
   "execution_count": 3,
   "metadata": {},
   "outputs": [
    {
     "data": {
      "text/plain": [
       "'1.0.3'"
      ]
     },
     "execution_count": 3,
     "metadata": {},
     "output_type": "execute_result"
    }
   ],
   "source": [
    "import pandas as pd\n",
    "from bs4 import BeautifulSoup\n",
    "from flask import Flask, render_template, redirect\n",
    "from flask_pymongo import PyMongo\n",
    "from pymongo import MongoClient\n",
    "from splinter import Browser\n",
    "pd.__version__"
   ]
  },
  {
   "cell_type": "code",
   "execution_count": 4,
   "metadata": {},
   "outputs": [],
   "source": [
    "import feedparser\n",
    "import pandas as pd\n",
    "from pandas.io.json import json_normalize\n",
    "import requests\n",
    "from config import host, port, username, password, database"
   ]
  },
  {
   "cell_type": "code",
   "execution_count": 5,
   "metadata": {},
   "outputs": [],
   "source": [
    "import pymysql\n",
    "import mysql.connector\n",
    "from sqlalchemy import create_engine"
   ]
  },
  {
   "cell_type": "code",
   "execution_count": 6,
   "metadata": {},
   "outputs": [],
   "source": [
    "connection = pymysql.connect(host,username,password,database)\n",
    "cursor = connection.cursor()"
   ]
  },
  {
   "cell_type": "code",
   "execution_count": 7,
   "metadata": {},
   "outputs": [
    {
     "name": "stdout",
     "output_type": "stream",
     "text": [
      "https://news.google.com/rss/search?q=internet+censorship+venezuela+august+11+2020\n"
     ]
    }
   ],
   "source": [
    "month = 'august'\n",
    "day = '11'\n",
    "year = '2020'\n",
    "country = 'venezuela'\n",
    "url=f'https://news.google.com/rss/search?q=internet+censorship+{country}+{month}+{day}+{year}'\n",
    "print(url)\n",
    "news_feed = feedparser.parse(url)\n",
    "\n",
    "news_scrape=pd.json_normalize(news_feed.entries)"
   ]
  },
  {
   "cell_type": "code",
   "execution_count": 8,
   "metadata": {},
   "outputs": [],
   "source": [
    "#Read articles links\n",
    "title =news_scrape['title']\n",
    "title = title.to_list()\n",
    "\n",
    "link = news_scrape['link']\n",
    "link = link.to_list()\n",
    "\n",
    "published =  news_scrape['published']\n",
    "published = published.to_list()\n",
    "\n",
    "google_search = {'Title':title,'Link':link,'Date':published}"
   ]
  },
  {
   "cell_type": "code",
   "execution_count": 9,
   "metadata": {},
   "outputs": [],
   "source": [
    "google_scrape_df=pd.DataFrame.from_dict(google_search,orient='index').transpose()"
   ]
  },
  {
   "cell_type": "code",
   "execution_count": 10,
   "metadata": {},
   "outputs": [
    {
     "data": {
      "text/html": [
       "<div>\n",
       "<style scoped>\n",
       "    .dataframe tbody tr th:only-of-type {\n",
       "        vertical-align: middle;\n",
       "    }\n",
       "\n",
       "    .dataframe tbody tr th {\n",
       "        vertical-align: top;\n",
       "    }\n",
       "\n",
       "    .dataframe thead th {\n",
       "        text-align: right;\n",
       "    }\n",
       "</style>\n",
       "<table border=\"1\" class=\"dataframe\">\n",
       "  <thead>\n",
       "    <tr style=\"text-align: right;\">\n",
       "      <th></th>\n",
       "      <th>Title</th>\n",
       "      <th>Link</th>\n",
       "      <th>Date</th>\n",
       "    </tr>\n",
       "  </thead>\n",
       "  <tbody>\n",
       "    <tr>\n",
       "      <th>0</th>\n",
       "      <td>VOA Journalists Fly Home After USAGM Fails to ...</td>\n",
       "      <td>https://www.voanews.com/usa/voa-journalists-fl...</td>\n",
       "      <td>Wed, 26 Aug 2020 01:07:54 GMT</td>\n",
       "    </tr>\n",
       "    <tr>\n",
       "      <th>1</th>\n",
       "      <td>Ertuğrul: how an epic TV series became the 'Mu...</td>\n",
       "      <td>https://www.theguardian.com/tv-and-radio/2020/...</td>\n",
       "      <td>Wed, 12 Aug 2020 07:00:00 GMT</td>\n",
       "    </tr>\n",
       "    <tr>\n",
       "      <th>2</th>\n",
       "      <td>AP Exclusive: AT&amp;T Under Pressure to Defy Madu...</td>\n",
       "      <td>https://www.usnews.com/news/world/articles/202...</td>\n",
       "      <td>Fri, 17 Jan 2020 08:00:00 GMT</td>\n",
       "    </tr>\n",
       "    <tr>\n",
       "      <th>3</th>\n",
       "      <td>Trump's Executive Order: What to Know About Se...</td>\n",
       "      <td>https://www.cfr.org/in-brief/trumps-executive-...</td>\n",
       "      <td>Thu, 04 Jun 2020 07:00:00 GMT</td>\n",
       "    </tr>\n",
       "    <tr>\n",
       "      <th>4</th>\n",
       "      <td>U.S. denies involvement in alleged plot to ove...</td>\n",
       "      <td>https://www.cbsnews.com/video/us-denies-involv...</td>\n",
       "      <td>Thu, 07 May 2020 07:00:00 GMT</td>\n",
       "    </tr>\n",
       "    <tr>\n",
       "      <th>...</th>\n",
       "      <td>...</td>\n",
       "      <td>...</td>\n",
       "      <td>...</td>\n",
       "    </tr>\n",
       "    <tr>\n",
       "      <th>95</th>\n",
       "      <td>UK: Heathrow Airport demands workers to take p...</td>\n",
       "      <td>https://www.wsws.org/en/articles/2020/04/11/he...</td>\n",
       "      <td>Sat, 11 Apr 2020 07:00:00 GMT</td>\n",
       "    </tr>\n",
       "    <tr>\n",
       "      <th>96</th>\n",
       "      <td>Brazilian disinformation bill threatens freedo...</td>\n",
       "      <td>https://ifex.org/brazilian-disinformation-bill...</td>\n",
       "      <td>Wed, 24 Jun 2020 07:00:00 GMT</td>\n",
       "    </tr>\n",
       "    <tr>\n",
       "      <th>97</th>\n",
       "      <td>SEP demands military stops harassing its elect...</td>\n",
       "      <td>https://www.wsws.org/en/articles/2020/06/30/se...</td>\n",
       "      <td>Tue, 30 Jun 2020 07:00:00 GMT</td>\n",
       "    </tr>\n",
       "    <tr>\n",
       "      <th>98</th>\n",
       "      <td>Zoom caught in China censorship crossfire as m...</td>\n",
       "      <td>https://wgnradio.com/news/technology-news/zoom...</td>\n",
       "      <td>Thu, 11 Jun 2020 07:00:00 GMT</td>\n",
       "    </tr>\n",
       "    <tr>\n",
       "      <th>99</th>\n",
       "      <td>Venezuelan military court jails union official...</td>\n",
       "      <td>https://www.wsws.org/en/articles/2019/08/17/ve...</td>\n",
       "      <td>Sat, 17 Aug 2019 07:00:00 GMT</td>\n",
       "    </tr>\n",
       "  </tbody>\n",
       "</table>\n",
       "<p>100 rows × 3 columns</p>\n",
       "</div>"
      ],
      "text/plain": [
       "                                                Title  \\\n",
       "0   VOA Journalists Fly Home After USAGM Fails to ...   \n",
       "1   Ertuğrul: how an epic TV series became the 'Mu...   \n",
       "2   AP Exclusive: AT&T Under Pressure to Defy Madu...   \n",
       "3   Trump's Executive Order: What to Know About Se...   \n",
       "4   U.S. denies involvement in alleged plot to ove...   \n",
       "..                                                ...   \n",
       "95  UK: Heathrow Airport demands workers to take p...   \n",
       "96  Brazilian disinformation bill threatens freedo...   \n",
       "97  SEP demands military stops harassing its elect...   \n",
       "98  Zoom caught in China censorship crossfire as m...   \n",
       "99  Venezuelan military court jails union official...   \n",
       "\n",
       "                                                 Link  \\\n",
       "0   https://www.voanews.com/usa/voa-journalists-fl...   \n",
       "1   https://www.theguardian.com/tv-and-radio/2020/...   \n",
       "2   https://www.usnews.com/news/world/articles/202...   \n",
       "3   https://www.cfr.org/in-brief/trumps-executive-...   \n",
       "4   https://www.cbsnews.com/video/us-denies-involv...   \n",
       "..                                                ...   \n",
       "95  https://www.wsws.org/en/articles/2020/04/11/he...   \n",
       "96  https://ifex.org/brazilian-disinformation-bill...   \n",
       "97  https://www.wsws.org/en/articles/2020/06/30/se...   \n",
       "98  https://wgnradio.com/news/technology-news/zoom...   \n",
       "99  https://www.wsws.org/en/articles/2019/08/17/ve...   \n",
       "\n",
       "                             Date  \n",
       "0   Wed, 26 Aug 2020 01:07:54 GMT  \n",
       "1   Wed, 12 Aug 2020 07:00:00 GMT  \n",
       "2   Fri, 17 Jan 2020 08:00:00 GMT  \n",
       "3   Thu, 04 Jun 2020 07:00:00 GMT  \n",
       "4   Thu, 07 May 2020 07:00:00 GMT  \n",
       "..                            ...  \n",
       "95  Sat, 11 Apr 2020 07:00:00 GMT  \n",
       "96  Wed, 24 Jun 2020 07:00:00 GMT  \n",
       "97  Tue, 30 Jun 2020 07:00:00 GMT  \n",
       "98  Thu, 11 Jun 2020 07:00:00 GMT  \n",
       "99  Sat, 17 Aug 2019 07:00:00 GMT  \n",
       "\n",
       "[100 rows x 3 columns]"
      ]
     },
     "execution_count": 10,
     "metadata": {},
     "output_type": "execute_result"
    }
   ],
   "source": [
    "google_scrape_df"
   ]
  },
  {
   "cell_type": "code",
   "execution_count": 20,
   "metadata": {},
   "outputs": [
    {
     "data": {
      "text/plain": [
       "0"
      ]
     },
     "execution_count": 20,
     "metadata": {},
     "output_type": "execute_result"
    }
   ],
   "source": [
    "# Insert DataFrame recrds one by one.\n",
    "sql = \"DROP TABLE IF EXISTS news_scrape\"\n",
    "cursor.execute(sql)"
   ]
  },
  {
   "cell_type": "code",
   "execution_count": 21,
   "metadata": {},
   "outputs": [
    {
     "data": {
      "text/plain": [
       "0"
      ]
     },
     "execution_count": 21,
     "metadata": {},
     "output_type": "execute_result"
    }
   ],
   "source": [
    "sql = \"CREATE TABLE news_scrape(id INT PRIMARY KEY AUTO_INCREMENT, title VARCHAR(300) NOT NULL, link VARCHAR(400) NOT NULL, date DATE NOT NULL)\"\n",
    "cursor.execute(sql)"
   ]
  },
  {
   "cell_type": "code",
   "execution_count": 22,
   "metadata": {},
   "outputs": [
    {
     "data": {
      "text/plain": [
       "'Title,Link,Date'"
      ]
     },
     "execution_count": 22,
     "metadata": {},
     "output_type": "execute_result"
    }
   ],
   "source": [
    "cols = \",\".join([str(i) for i in google_scrape_df.columns.tolist()])\n",
    "cols"
   ]
  },
  {
   "cell_type": "code",
   "execution_count": 24,
   "metadata": {},
   "outputs": [],
   "source": [
    "for i,row in google_scrape_df.iterrows():\n",
    "    sql = str(\"INSERT INTO news_scrape (\" +cols + \") VALUES (\" + \"%s,\"*(len(row)-1) + \"%s)\")\n",
    "    cursor.execute(sql, tuple(row))\n",
    "    connection.commit()"
   ]
  }
 ],
 "metadata": {
  "kernelspec": {
   "display_name": "Python 3",
   "language": "python",
   "name": "python3"
  },
  "language_info": {
   "codemirror_mode": {
    "name": "ipython",
    "version": 3
   },
   "file_extension": ".py",
   "mimetype": "text/x-python",
   "name": "python",
   "nbconvert_exporter": "python",
   "pygments_lexer": "ipython3",
   "version": "3.7.4"
  }
 },
 "nbformat": 4,
 "nbformat_minor": 2
}
