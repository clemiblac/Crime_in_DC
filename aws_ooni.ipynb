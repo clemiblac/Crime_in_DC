{
 "cells": [
  {
   "cell_type": "code",
   "execution_count": 2,
   "metadata": {},
   "outputs": [],
   "source": [
    "#!pip install boto3\n",
    "#!pip install lz4framed\n",
    "import os\n",
    "import io\n",
    "import yaml\n",
    "import json\n",
    "from datetime import datetime, timedelta\n",
    "\n",
    "import pandas as pd\n",
    "import psycopg2\n",
    "import boto3\n",
    "\n",
    "import requests\n",
    "from tqdm import tqdm\n",
    "\n",
    "from dateutil.parser import parse as parse_date\n",
    "from urllib.parse import urlencode, quote, urlparse\n",
    "\n",
    "import requests\n",
    "#import lz4framed\n",
    "from urllib.parse import urljoin\n",
    "import gzip\n",
    "import subprocess\n",
    "import tarfile"
   ]
  },
  {
   "cell_type": "code",
   "execution_count": 3,
   "metadata": {},
   "outputs": [],
   "source": [
    "from botocore import UNSIGNED\n",
    "from botocore.config import Config\n",
    "s3 = boto3.client('s3', config=Config(signature_version=UNSIGNED))"
   ]
  },
  {
   "cell_type": "code",
   "execution_count": 4,
   "metadata": {},
   "outputs": [],
   "source": [
    "CANNED_BASE_URL = 'http://s3.amazonaws.com/ooni-data/canned/'\n",
    "def load_canned_index(bucket_date):\n",
    "    r = requests.get(\n",
    "            urljoin(CANNED_BASE_URL, '{}/index.json.gz'.format(bucket_date))\n",
    "        )\n",
    "    blob = r.content\n",
    "    return gzip.decompress(blob).split(b'\\n')"
   ]
  },
  {
   "cell_type": "code",
   "execution_count": 7,
   "metadata": {},
   "outputs": [
    {
     "name": "stdout",
     "output_type": "stream",
     "text": [
      "[<TarInfo '2020-07-01/20200701T184544Z-BR-AS27699-web_connectivity-20200701T184551Z_AS27699_9SKyvqgf8GlMys15QwKaMB6NxZRqSVW4Je03ghocv9Lf195iNt-0.2.0-probe.json' at 0x7fa74a9f0ef0>, <TarInfo '2020-07-01/20200701T185245Z-ZA-AS328453-web_connectivity-20200701T185246Z_AS328453_xKFIDJUHwTPzJDLoEzdqfo4ZaqCunNvwq7MI0oBOrxVs7BE2dz-0.2.0-probe.json' at 0x7fa74a8eac80>, <TarInfo '2020-07-01/20200701T185348Z-BR-AS27699-web_connectivity-20200701T185352Z_AS27699_hHdbyxJNkr3q2z4KYIY2l0TtHbq2MPv6KBvj2fMDCZLclMZNhC-0.2.0-probe.json' at 0x7fa74a8eaef0>, <TarInfo '2020-07-01/20200701T185552Z-MA-AS36903-web_connectivity-20200701T185553Z_AS36903_MQP35vFn698w0uTaBW5UHdsz70GDRy0vsBkW5LmQ9oyDmy3hZw-0.2.0-probe.json' at 0x7fa74a9f0120>, <TarInfo '2020-07-01/20200701T185623Z-BR-AS1916-web_connectivity-20200701T185623Z_AS1916_uDhSU5ySYCHAdAE6VQzm8fB8mLMhjmG8zFfs7y36K1qyjsaADx-0.2.0-probe.json' at 0x7fa74a9f0390>, <TarInfo '2020-07-01/20200701T185801Z-US-AS20115-web_connectivity-20200701T185804Z_AS20115_TCjlkThsiV5D3CKApACNqin4ZrU4lPGJpKCLXy3nlmuY0rer3O-0.2.0-probe.json' at 0x7fa74a9f0530>, <TarInfo '2020-07-01/20200701T185822Z-US-AS7029-web_connectivity-20200701T185838Z_AS7029_rYUakT33d56oyjGToVC6bEMPeVWPnQ8NoIYbGIHYtgGW98Auiz-0.2.0-probe.json' at 0x7fa74a9f06d0>, <TarInfo '2020-07-01/20200701T185907Z-BR-AS28573-web_connectivity-20200701T185912Z_AS28573_qORqdeBypwiY9DIHRPAxLq9OIOdjHyuKEFlpbECQhoRD8i7Rm0-0.2.0-probe.json' at 0x7fa74a9f0870>, <TarInfo '2020-07-01/20200701T185951Z-ZA-AS37457-web_connectivity-20200701T185956Z_AS37457_wCE2z5u2zyz9IZ2RJMMyjA5AMauLvJ7N3F9z0HxGsc8HaKg0O8-0.2.0-probe.json' at 0x7fa74a9f0a10>, <TarInfo '2020-07-01/20200701T190001Z-ZA-AS328453-web_connectivity-20200701T190001Z_AS328453_0oJQRe5gSkb2AeLj0wFqDkwvLQqbyGV003Qq1YpwhoZvgIeumB-0.2.0-probe.json' at 0x7fa74a9f0bb0>, <TarInfo '2020-07-01/20200701T190538Z-US-AS21766-web_connectivity-20200701T190540Z_AS21766_o2NhIWMEkUMRAxSOCgvbCf4ckLYXvW8Fxo4drYRoNfJz6CGKCJ-0.2.0-probe.json' at 0x7fa74a9f0d50>, <TarInfo '2020-07-01/20200701T190622Z-IN-AS45609-web_connectivity-20200701T190630Z_AS45609_tJJSwLeGyvJhPbsQ5Z2AlqlRSyqHg9E2PU8W6ugIrhzWGIAPXu-0.2.0-probe.json' at 0x7fa74a9f71f0>, <TarInfo '2020-07-01/20200701T190729Z-NL-AS208294-web_connectivity-20200701T190738Z_AS208294_oC5pxUfdViRTxMbyKdj24otO0Njpfbi5Hs96mWI1qEiPefMmUK-0.2.0-probe.json' at 0x7fa74a9f7390>, <TarInfo '2020-07-01/20200701T190819Z-TR-AS34984-web_connectivity-20200701T190824Z_AS34984_04ZZUl5YoUWUTL8sAY0mBsMHLxyFKhkKFSOaHE3NkGFz31H9kh-0.2.0-probe.json' at 0x7fa74a9f7530>, <TarInfo '2020-07-01/20200701T190822Z-IR-AS44244-web_connectivity-20200701T190826Z_AS44244_KKZDxkXrfu8nNH5XUEy3strfV3ahT0jJ5n93AQWUWy23wUAG6U-0.2.0-probe.json' at 0x7fa74a9f76d0>, <TarInfo '2020-07-01/20200701T190919Z-ES-AS3352-web_connectivity-20200701T190920Z_AS3352_ylpTgwD7bS4Fm2A4hrhGjNy45vJOOat4hZvmPF9SgplsHNvEFW-0.2.0-probe.json' at 0x7fa74a9f7870>, <TarInfo '2020-07-01/20200701T191711Z-IT-AS16232-web_connectivity-20200701T191713Z_AS16232_HvjtltK1qHeaD5NyKG9A5ETXiRWESOq1S04FEnHo3gEVln2qiP-0.2.0-probe.json' at 0x7fa74a9f7a10>, <TarInfo '2020-07-01/20200701T191826Z-DE-AS205100-web_connectivity-20200701T191833Z_AS205100_3JW2KVW0fuCaUanWWJ3MDxOBsrBWwKJG9wRg7DnRQLQszsxNnw-0.2.0-probe.json' at 0x7fa74a9f7d50>, <TarInfo '2020-07-01/20200701T192128Z-IN-AS133652-web_connectivity-20200701T192132Z_AS133652_HvgTr5Oi4eKowVSXqmWE5nLr60zzVjCyFyUBD9yzba1DL1MAgz-0.2.0-probe.json' at 0x7fa74a9f7050>]\n"
     ]
    }
   ],
   "source": [
    "def decompress_tar(filename):\n",
    "    tar_data = b''\n",
    "    p = subprocess.Popen([\"lz4\", \"-d\"], stdin=subprocess.PIPE, stdout=subprocess.PIPE)\n",
    "    r = requests.get(urljoin(CANNED_BASE_URL, filename))\n",
    "    stdout_data, _ = p.communicate(input=r.content)\n",
    "    return tarfile.open(mode=\"r:\", fileobj=io.BytesIO(stdout_data))\n",
    "#     COUNTRY_CODE = \"RU\"\n",
    "\n",
    "canned_index = load_canned_index('2020-07-01')\n",
    "  ## XXX need to filter by test_name\n",
    "can = json.loads(canned_index[3])\n",
    "tarfd = decompress_tar(can['filename'])\n",
    "print(tarfd.getmembers())"
   ]
  },
  {
   "cell_type": "code",
   "execution_count": null,
   "metadata": {},
   "outputs": [],
   "source": [
    "https://api.ooni.io/api/v1/aggregation?since=2020-03-01&until=2020-07-31&axis_x=probe_cc&axis_y=measurement_start_day&test_name=web_connectivity&probe_cc=RU&input=https://twitter.com/"
   ]
  },
  {
   "cell_type": "code",
   "execution_count": null,
   "metadata": {},
   "outputs": [],
   "source": [
    "nearbysearch_url = \"https://maps.googleapis.com/maps/api/place/nearbysearch/json\"\n",
    "params = {\n",
    "    \"location\": origin_latlng,  \n",
    "    \"rankby\": \"distance\",\n",
    "    \"type\": \"restaurant\",\n",
    "    \"key\": gkey,\n",
    "}\n",
    "# use iterrows to iterate through pandas dataframe\n",
    "for index, row in restaurant_types_df.iterrows():\n",
    "\n",
    "    # get restaurant type from df\n",
    "    restr_type = row['ethnicity']\n",
    "\n",
    "    # add keyword to params dict\n",
    "    params['keyword'] = restr_type\n",
    "\n",
    "    # assemble url and make API request\n",
    "    print(f\"Retrieving Results for Index {index}: {restr_type}.\")\n",
    "    response = requests.get(nearbysearch_url, params=params).json()\n",
    "    \n",
    "    # extract results\n",
    "    results = response['results']\n",
    "    \n",
    "    try:\n",
    "        print(f\"Closest {restr_type} restaurant is {results[0]['name']}.\")\n",
    "        \n",
    "        restaurant_types_df.loc[index, 'name'] = results[0]['name']\n",
    "        restaurant_types_df.loc[index, 'address'] = results[0]['vicinity']\n",
    "        restaurant_types_df.loc[index, 'price_level'] = results[0]['price_level']\n",
    "        restaurant_types_df.loc[index, 'rating'] = results[0]['rating']\n",
    "        \n",
    "    except (KeyError, IndexError):\n",
    "        print(\"Missing field/result... skipping.\")\n",
    "        \n",
    "    print(\"------------\") "
   ]
  }
 ],
 "metadata": {
  "kernelspec": {
   "display_name": "Python 3",
   "language": "python",
   "name": "python3"
  },
  "language_info": {
   "codemirror_mode": {
    "name": "ipython",
    "version": 3
   },
   "file_extension": ".py",
   "mimetype": "text/x-python",
   "name": "python",
   "nbconvert_exporter": "python",
   "pygments_lexer": "ipython3",
   "version": "3.7.6"
  }
 },
 "nbformat": 4,
 "nbformat_minor": 4
}
